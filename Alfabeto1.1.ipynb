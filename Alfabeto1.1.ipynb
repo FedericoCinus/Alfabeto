{
 "cells": [
  {
   "cell_type": "markdown",
   "metadata": {},
   "source": [
    "<center>\n",
    "<hr>\n",
    "<h1>Complessità nei sistemi sociali</h1>\n",
    "<h2>Laurea Magistrale in Fisica Dei Sistemi Complessi</h2>\n",
    "<h2>A.A. 2016/17</h2>\n",
    "<h3>Dr. Daniela Paolotti, Dr. Michele Tizzoni</h3>\n",
    "<hr>\n",
    "</center>"
   ]
  },
  {
   "cell_type": "markdown",
   "metadata": {},
   "source": [
    "<center> \n",
    "## Project name: Alfabeto \n",
    "\n",
    "<h4>Student: Federico Cinus</h4>\n"
   ]
  },
  {
   "cell_type": "markdown",
   "metadata": {},
   "source": [
    "<center> \n",
    "# Introduzione "
   ]
  },
  {
   "cell_type": "markdown",
   "metadata": {},
   "source": []
  },
  {
   "cell_type": "markdown",
   "metadata": {},
   "source": []
  },
  {
   "cell_type": "markdown",
   "metadata": {},
   "source": []
  },
  {
   "cell_type": "markdown",
   "metadata": {},
   "source": [
    "<center>\n",
    "Alfabeto è un programma che ha lo scopo di classificare un testo in base alla lingua, sfruttando la teoria delle reti"
   ]
  },
  {
   "cell_type": "markdown",
   "metadata": {},
   "source": []
  },
  {
   "cell_type": "markdown",
   "metadata": {},
   "source": []
  },
  {
   "cell_type": "markdown",
   "metadata": {},
   "source": []
  },
  {
   "cell_type": "markdown",
   "metadata": {},
   "source": [
    "<center>\n",
    "L'idea è quella di mettere in evidenza i suoni più comuni in una lingua"
   ]
  },
  {
   "cell_type": "markdown",
   "metadata": {},
   "source": []
  },
  {
   "cell_type": "markdown",
   "metadata": {},
   "source": []
  },
  {
   "cell_type": "markdown",
   "metadata": {},
   "source": []
  },
  {
   "cell_type": "markdown",
   "metadata": {},
   "source": [
    "<center>\n",
    "Al fine di semplificare il problema si considerano:\n",
    "<center>\n",
    "1) due lingue (italiano e inglese)\n",
    "<center>\n",
    "2) approssimazione in cui i \"suoni\" sono coppie di lettere in una stessa parola\n"
   ]
  },
  {
   "cell_type": "markdown",
   "metadata": {},
   "source": []
  },
  {
   "cell_type": "markdown",
   "metadata": {},
   "source": []
  },
  {
   "cell_type": "markdown",
   "metadata": {},
   "source": []
  },
  {
   "cell_type": "markdown",
   "metadata": {},
   "source": [
    "<center>\n",
    "Alfabeto basa la sua analisi su una rete pesata"
   ]
  },
  {
   "cell_type": "markdown",
   "metadata": {},
   "source": []
  },
  {
   "cell_type": "markdown",
   "metadata": {},
   "source": []
  },
  {
   "cell_type": "markdown",
   "metadata": {},
   "source": []
  },
  {
   "cell_type": "markdown",
   "metadata": {},
   "source": [
    "In particolare prende un file txt in input e crea una rete i cui nodi sono le lettere dell'alfabeto; \n",
    "\n",
    "i link vengono creati solo tra lettere vicine nella stessa parola; e.g. nella parola \"alfabeto\" i link saranno tra (a,l), (l,f), (f,a) etc. \n",
    "\n",
    "Se due lettere risultano vicine più di una volta all'interno del file txt, il peso del loro link corrispondente verrà aumentato di una unità"
   ]
  },
  {
   "cell_type": "markdown",
   "metadata": {},
   "source": []
  },
  {
   "cell_type": "markdown",
   "metadata": {},
   "source": []
  },
  {
   "cell_type": "markdown",
   "metadata": {},
   "source": []
  },
  {
   "cell_type": "markdown",
   "metadata": {},
   "source": [
    "<center>\n",
    "Le reti corrispondenti a testi in lingue differenti determinano reti con layout e caratteristiche distinte"
   ]
  },
  {
   "cell_type": "markdown",
   "metadata": {},
   "source": []
  },
  {
   "cell_type": "markdown",
   "metadata": {},
   "source": []
  },
  {
   "cell_type": "markdown",
   "metadata": {},
   "source": []
  },
  {
   "cell_type": "markdown",
   "metadata": {},
   "source": [
    "<center> \n",
    "# Esempi di layout "
   ]
  },
  {
   "cell_type": "code",
   "execution_count": 1,
   "metadata": {},
   "outputs": [
    {
     "name": "stdout",
     "output_type": "stream",
     "text": [
      "Populating the interactive namespace from numpy and matplotlib\n"
     ]
    }
   ],
   "source": [
    "#librerie da importare\n",
    "%pylab inline \n",
    "import string\n",
    "import networkx as nx\n",
    "import seaborn as sns\n",
    "from sklearn.utils import shuffle\n",
    "import powerlaw as pwl"
   ]
  },
  {
   "cell_type": "markdown",
   "metadata": {},
   "source": [
    "<center>\n",
    "# Inglese"
   ]
  },
  {
   "cell_type": "code",
   "execution_count": 2,
   "metadata": {},
   "outputs": [],
   "source": [
    "#file txt in input\n",
    "f = open('Testo_inglese.txt', 'r')\n",
    "fh = f.readlines()\n",
    "\n",
    "#creo la lista di lettere\n",
    "lista = []\n",
    "for n_line in range(len(fh)):\n",
    "    punctuation='!?,.:;\"\\')(_-{}[]1234567890*+/'\n",
    "    line = fh[n_line].translate(None, punctuation).replace('\\xc3\\xb9','u').replace('\\xc3\\xa8', 'e').replace('\\u00E9', 'e').replace('\\xc3\\xb2','o').replace('\\u00F4', 'o').replace('\\xc3\\xa0', 'a').replace('\\n',' ').replace('\\n\\n',' ').replace('\\xc3\\xac', 'i').replace('\\xc3\\xa9', 'e').lower()\n",
    "    for word in line:\n",
    "        for letter in word:\n",
    "            lista.append(letter)\n",
    "            \n",
    "#rendo uguale la lunghezza dei due testi\n",
    "lista = lista[:-934]"
   ]
  },
  {
   "cell_type": "code",
   "execution_count": 3,
   "metadata": {
    "collapsed": true
   },
   "outputs": [],
   "source": [
    "#creazione rete\n",
    "G_en = nx.Graph()\n",
    "alfabeto = ['a','b','c','d','e','f','g','h','i','j','k','l','m','n','o','p','q','r','s','t','u','v','w','x','y','z']\n",
    "G_en.add_nodes_from(alfabeto)"
   ]
  },
  {
   "cell_type": "code",
   "execution_count": 4,
   "metadata": {
    "collapsed": true
   },
   "outputs": [],
   "source": [
    "#creazione link\n",
    "for i in range(len(lista)-1):\n",
    "    #se non esiste il link tra due lettere lo creo\n",
    "    if G_en.edges().count((lista[i],lista[i+1])) == 0:\n",
    "        G_en.add_edge(lista[i],lista[i+1], weight=1)\n",
    "    else:\n",
    "    #se esiste il link tra due lettere ne aumento il peso\n",
    "        G_en[lista[i]][lista[i+1]]['weight'] += 1\n",
    "#rimuovo gli spazi\n",
    "for j in alfabeto:\n",
    "    if G_en.edges().count(('', j)) != 0:\n",
    "        G_en.remove_edge('', j)\n",
    "if G_en.nodes().count(' ') != 0:\n",
    "    G_en.remove_node(' ')"
   ]
  },
  {
   "cell_type": "code",
   "execution_count": 5,
   "metadata": {},
   "outputs": [
    {
     "data": {
      "image/png": "[encoded data removed]",
      "text/plain": [
       "<matplotlib.figure.Figure at 0x112206310>"
      ]
     },
     "metadata": {},
     "output_type": "display_data"
    }
   ],
   "source": [
    "#visualizzazione grafica della rete tramite l'algoritmo spring_layout\n",
    "pos = nx.spring_layout(G_en, dim=2, k=None, pos=None, fixed=None, iterations=50, weight='weight', scale=1.0)\n",
    "plt.figure(figsize=(9,7))\n",
    "nx.draw_networkx(G_en,pos)"
   ]
  },
  {
   "cell_type": "markdown",
   "metadata": {},
   "source": []
  },
  {
   "cell_type": "markdown",
   "metadata": {},
   "source": []
  },
  {
   "cell_type": "markdown",
   "metadata": {},
   "source": []
  },
  {
   "cell_type": "markdown",
   "metadata": {},
   "source": [
    "<center>\n",
    "# Italiano"
   ]
  },
  {
   "cell_type": "code",
   "execution_count": 6,
   "metadata": {},
   "outputs": [],
   "source": [
    "#file txt in input \n",
    "f = open('Testo_italiano.txt', 'r')\n",
    "fh = f.readlines()\n",
    "\n",
    "lista = []\n",
    "for n_line in range(len(fh)):\n",
    "    punctuation='!?,.:;\"\\')(_-{}[]1234567890*+/'\n",
    "    line = fh[n_line].translate(None, punctuation).replace('\\xc3\\xb9','u').replace('\\xc3\\xa8', 'e').replace('\\u00E9', 'e').replace('\\xc3\\xb2','o').replace('\\u00F4', 'o').replace('\\xc3\\xa0', 'a').replace('\\n',' ').replace('\\n\\n',' ').replace('\\xc3\\xac', 'i').replace('\\xc3\\xa9', 'e').lower()\n",
    "    for word in line:\n",
    "        for letter in word:\n",
    "            lista.append(letter)"
   ]
  },
  {
   "cell_type": "code",
   "execution_count": 7,
   "metadata": {
    "collapsed": true
   },
   "outputs": [],
   "source": [
    "#creazione rete\n",
    "G_it = nx.Graph()\n",
    "alfabeto = ['a','b','c','d','e','f','g','h','i','j','k','l','m','n','o','p','q','r','s','t','u','v','w','x','y','z']\n",
    "G_it.add_nodes_from(alfabeto)"
   ]
  },
  {
   "cell_type": "code",
   "execution_count": 8,
   "metadata": {
    "collapsed": true
   },
   "outputs": [],
   "source": [
    "#creazione link\n",
    "for i in range(len(lista)-1):\n",
    "    if G_it.edges().count((lista[i],lista[i+1])) == 0:\n",
    "        G_it.add_edge(lista[i],lista[i+1], weight=1)\n",
    "    else:\n",
    "        G_it[lista[i]][lista[i+1]]['weight'] += 1 \n",
    "for j in alfabeto:\n",
    "    if G_it.edges().count(('', j)) != 0:\n",
    "        G_it.remove_edge('', j)\n",
    "if G_it.nodes().count(' ') != 0:\n",
    "    G_it.remove_node(' ')"
   ]
  },
  {
   "cell_type": "code",
   "execution_count": 10,
   "metadata": {},
   "outputs": [
    {
     "data": {
      "image/png": "[encoded data removed]",
      "text/plain": [
       "<matplotlib.figure.Figure at 0x115651150>"
      ]
     },
     "metadata": {},
     "output_type": "display_data"
    }
   ],
   "source": [
    "#visualizzazione grafica della rete tramite spring_layout\n",
    "pos = nx.spring_layout(G_it, dim=2, k=None, pos=None, fixed=None, iterations=50, weight='weight', scale=1.0)\n",
    "plt.figure(figsize=(9,7))\n",
    "nx.draw_networkx(G_it,pos)"
   ]
  },
  {
   "cell_type": "markdown",
   "metadata": {},
   "source": []
  },
  {
   "cell_type": "markdown",
   "metadata": {},
   "source": []
  },
  {
   "cell_type": "markdown",
   "metadata": {},
   "source": []
  },
  {
   "cell_type": "markdown",
   "metadata": {},
   "source": [
    "<center> \n",
    "# Elementi di teoria delle reti"
   ]
  },
  {
   "cell_type": "markdown",
   "metadata": {},
   "source": []
  },
  {
   "cell_type": "markdown",
   "metadata": {},
   "source": []
  },
  {
   "cell_type": "markdown",
   "metadata": {},
   "source": []
  },
  {
   "cell_type": "markdown",
   "metadata": {},
   "source": [
    "<center>\n",
    "Power law fit per la degree distribution\n",
    "\n",
    "<center>\n",
    "$\\rho(k) = C k^{-\\alpha}$\n",
    "\n",
    "<center>\n",
    "dove: $C=1/Z(\\alpha)$ oppure $(\\alpha -1)k_{min}^{\\alpha -1}$"
   ]
  },
  {
   "cell_type": "markdown",
   "metadata": {},
   "source": []
  },
  {
   "cell_type": "markdown",
   "metadata": {},
   "source": []
  },
  {
   "cell_type": "markdown",
   "metadata": {},
   "source": []
  },
  {
   "cell_type": "markdown",
   "metadata": {},
   "source": [
    "<center>\n",
    "$\\alpha <2$ -> caso anomalo\n",
    "\n",
    "<center>\n",
    "$2< \\alpha <3$ -> scale free\n",
    "\n",
    "<center>\n",
    "$\\alpha >3$ -> si avvicina alle reti random"
   ]
  },
  {
   "cell_type": "markdown",
   "metadata": {},
   "source": []
  },
  {
   "cell_type": "markdown",
   "metadata": {},
   "source": []
  },
  {
   "cell_type": "markdown",
   "metadata": {},
   "source": []
  },
  {
   "cell_type": "markdown",
   "metadata": {},
   "source": [
    "<center> \n",
    "Analizziamo la degree distribution per la rete relativa al testo italiano\n",
    "<center>\n",
    "Innanzitutto guardiamo il dizionario dei degree:"
   ]
  },
  {
   "cell_type": "code",
   "execution_count": 11,
   "metadata": {},
   "outputs": [
    {
     "data": {
      "text/plain": [
       "{'a': 17,\n",
       " 'b': 11,\n",
       " 'c': 13,\n",
       " 'd': 9,\n",
       " 'e': 17,\n",
       " 'f': 9,\n",
       " 'g': 11,\n",
       " 'h': 7,\n",
       " 'i': 21,\n",
       " 'j': 0,\n",
       " 'k': 0,\n",
       " 'l': 16,\n",
       " 'm': 11,\n",
       " 'n': 16,\n",
       " 'o': 17,\n",
       " 'p': 10,\n",
       " 'q': 2,\n",
       " 'r': 20,\n",
       " 's': 16,\n",
       " 't': 11,\n",
       " 'u': 18,\n",
       " 'v': 11,\n",
       " 'w': 0,\n",
       " 'x': 0,\n",
       " 'y': 0,\n",
       " 'z': 9}"
      ]
     },
     "execution_count": 11,
     "metadata": {},
     "output_type": "execute_result"
    }
   ],
   "source": [
    "G_it.degree()"
   ]
  },
  {
   "cell_type": "markdown",
   "metadata": {},
   "source": [
    "<center>\n",
    "Notiamo che alcuni valori di degree sono assenti nella distribuzione\n",
    "\n",
    "<center>\n",
    "Proviamo a plottare l'istogramma della degree distribution"
   ]
  },
  {
   "cell_type": "code",
   "execution_count": 13,
   "metadata": {},
   "outputs": [
    {
     "data": {
      "text/plain": [
       "<matplotlib.text.Text at 0x1155bb2d0>"
      ]
     },
     "execution_count": 13,
     "metadata": {},
     "output_type": "execute_result"
    },
    {
     "data": {
      "image/png": "[encoded data removed]",
      "text/plain": [
       "<matplotlib.figure.Figure at 0x1155f2a90>"
      ]
     },
     "metadata": {},
     "output_type": "display_data"
    }
   ],
   "source": [
    "degree = np.array(G_it.degree().values())\n",
    "\n",
    "plt.figure(figsize=(9,7))\n",
    "plt.hist(degree, bins=100, normed=True, log=False, histtype='stepfilled')\n",
    "\n",
    "plt.xticks(fontsize=17)\n",
    "plt.yticks(fontsize=17)\n",
    "plt.xlabel('Degree', fontsize=17)\n",
    "plt.ylabel('$P(k)$', fontsize=17)"
   ]
  },
  {
   "cell_type": "markdown",
   "metadata": {},
   "source": [
    "<center>\n",
    "La distribuzione è una funzione definita a tratti il cui fit non ha nessuna utilità nella descrizione e classificazione di reti con così pochi nodi"
   ]
  },
  {
   "cell_type": "markdown",
   "metadata": {
    "collapsed": true
   },
   "source": []
  },
  {
   "cell_type": "markdown",
   "metadata": {},
   "source": []
  },
  {
   "cell_type": "markdown",
   "metadata": {},
   "source": []
  },
  {
   "cell_type": "markdown",
   "metadata": {},
   "source": [
    "<center>\n",
    "Average clustering coefficient\n",
    "\n",
    "<center>\n",
    "$\\bar{C} = \\frac{1}{N}\\sum_{i=1}^{N} C_i.$"
   ]
  },
  {
   "cell_type": "markdown",
   "metadata": {},
   "source": []
  },
  {
   "cell_type": "markdown",
   "metadata": {},
   "source": []
  },
  {
   "cell_type": "markdown",
   "metadata": {},
   "source": []
  },
  {
   "cell_type": "markdown",
   "metadata": {},
   "source": [
    "<center>\n",
    "Dove la densità locale di links attorno al nodo i-esimo è:\n",
    "\n",
    "<center>\n",
    "$C_{i}= \\dfrac{2L_i}{k_i (k_i -1)}$"
   ]
  },
  {
   "cell_type": "markdown",
   "metadata": {
    "collapsed": true
   },
   "source": []
  },
  {
   "cell_type": "markdown",
   "metadata": {
    "collapsed": true
   },
   "source": []
  },
  {
   "cell_type": "markdown",
   "metadata": {
    "collapsed": true
   },
   "source": []
  },
  {
   "cell_type": "markdown",
   "metadata": {},
   "source": [
    "<center> \n",
    "In questo caso ci aspettiamo che la densità di link attorno ai nodi corrispondenti alle lettere J, K, X, Y sia ridotta nel caso dei testi italiani rispetto a quelli inglesi, mentre è egualmente importante intorno alle vocali"
   ]
  },
  {
   "cell_type": "code",
   "execution_count": 14,
   "metadata": {},
   "outputs": [
    {
     "name": "stdout",
     "output_type": "stream",
     "text": [
      "L'average clustering coefficient per la rete del testo inglese è:  0.754754655539\n",
      "L'average clustering coefficient per la rete del testo italiano è:  0.597310986624\n"
     ]
    }
   ],
   "source": [
    "print \"L'average clustering coefficient per la rete del testo inglese è: \", nx.average_clustering(G_en)\n",
    "print \"L'average clustering coefficient per la rete del testo italiano è: \", nx.average_clustering(G_it)"
   ]
  },
  {
   "cell_type": "markdown",
   "metadata": {},
   "source": []
  },
  {
   "cell_type": "markdown",
   "metadata": {},
   "source": []
  },
  {
   "cell_type": "markdown",
   "metadata": {},
   "source": []
  },
  {
   "cell_type": "markdown",
   "metadata": {},
   "source": [
    "<center>\n",
    "L'average clustering coefficient è un buon indicatore per la classificazione"
   ]
  },
  {
   "cell_type": "markdown",
   "metadata": {},
   "source": []
  },
  {
   "cell_type": "markdown",
   "metadata": {},
   "source": []
  },
  {
   "cell_type": "markdown",
   "metadata": {},
   "source": []
  },
  {
   "cell_type": "markdown",
   "metadata": {},
   "source": [
    "<center>\n",
    "Numero di triangoli\n",
    "\n",
    "<center>\n",
    "$C_{tr} = $ num triple chiuse "
   ]
  },
  {
   "cell_type": "markdown",
   "metadata": {
    "collapsed": true
   },
   "source": [
    "<center>\n",
    "In questo caso ci aspettiamo che il termine sia predominante nella rete corrispondente alla lingua in cui i \"suoni\" a tre lettere sono più comuni"
   ]
  },
  {
   "cell_type": "markdown",
   "metadata": {},
   "source": []
  },
  {
   "cell_type": "markdown",
   "metadata": {},
   "source": []
  },
  {
   "cell_type": "markdown",
   "metadata": {},
   "source": []
  },
  {
   "cell_type": "code",
   "execution_count": 15,
   "metadata": {},
   "outputs": [
    {
     "name": "stdout",
     "output_type": "stream",
     "text": [
      "Il numero di traingoli per la rete del testo inglese è:  570.0\n",
      "Il numero di triangoli per la rete del testo italiano è:  322.0\n"
     ]
    }
   ],
   "source": [
    "print \"Il numero di traingoli per la rete del testo inglese è: \", float(sum(nx.triangles(G_en).values()))/3\n",
    "print \"Il numero di triangoli per la rete del testo italiano è: \", float(sum(nx.triangles(G_it).values()))/3"
   ]
  },
  {
   "cell_type": "markdown",
   "metadata": {},
   "source": [
    "NB: il contributo maggiore sarà dato dalle vocali"
   ]
  },
  {
   "cell_type": "markdown",
   "metadata": {},
   "source": []
  },
  {
   "cell_type": "markdown",
   "metadata": {},
   "source": []
  },
  {
   "cell_type": "markdown",
   "metadata": {},
   "source": []
  },
  {
   "cell_type": "markdown",
   "metadata": {},
   "source": [
    "<center> \n",
    "Numero di componenti connesse"
   ]
  },
  {
   "cell_type": "markdown",
   "metadata": {},
   "source": [
    "<center>\n",
    "Analogamente al caso dell' average clustering coefficient ci aspettiamo un'unica componente connessa nella rete relativa al testo inglese e più componenti nel caso di quello italiano, a causa dell'uso meno frequente delle lettere J, K, X, Y"
   ]
  },
  {
   "cell_type": "markdown",
   "metadata": {
    "collapsed": true
   },
   "source": []
  },
  {
   "cell_type": "markdown",
   "metadata": {},
   "source": []
  },
  {
   "cell_type": "markdown",
   "metadata": {},
   "source": []
  },
  {
   "cell_type": "code",
   "execution_count": 16,
   "metadata": {},
   "outputs": [
    {
     "name": "stdout",
     "output_type": "stream",
     "text": [
      "Il numero di componenti connesse per la rete del testo inglese è:  1\n",
      "Il numero di componenti connesse per la rete del testo italiano è:  6\n"
     ]
    }
   ],
   "source": [
    "print \"Il numero di componenti connesse per la rete del testo inglese è: \", nx.number_connected_components(G_en)\n",
    "print \"Il numero di componenti connesse per la rete del testo italiano è: \", nx.number_connected_components(G_it)"
   ]
  },
  {
   "cell_type": "markdown",
   "metadata": {},
   "source": []
  },
  {
   "cell_type": "markdown",
   "metadata": {
    "collapsed": true
   },
   "source": []
  },
  {
   "cell_type": "markdown",
   "metadata": {
    "collapsed": true
   },
   "source": []
  },
  {
   "cell_type": "markdown",
   "metadata": {},
   "source": [
    "<center>\n",
    "Assortative Mixing by Degree"
   ]
  },
  {
   "cell_type": "markdown",
   "metadata": {},
   "source": [
    "<center>\n",
    "$r = \\dfrac{\\Sigma_{ij}(A_{ij}-k_ik_j/2m)k_ik_j}{\\Sigma_{ij}(k_i\\delta_{ij}-k_ik_j/2m)k_ik_j}$"
   ]
  },
  {
   "cell_type": "markdown",
   "metadata": {},
   "source": [
    "NB: ottenuto come la covarianza normalizzata delle misure $k_i$ e $k_j$"
   ]
  },
  {
   "cell_type": "markdown",
   "metadata": {},
   "source": []
  },
  {
   "cell_type": "markdown",
   "metadata": {},
   "source": []
  },
  {
   "cell_type": "markdown",
   "metadata": {},
   "source": []
  },
  {
   "cell_type": "markdown",
   "metadata": {},
   "source": [
    "<center>\n",
    "Valutiamo il coefficiente di assortatività nelle due reti"
   ]
  },
  {
   "cell_type": "code",
   "execution_count": 17,
   "metadata": {},
   "outputs": [
    {
     "name": "stdout",
     "output_type": "stream",
     "text": [
      "L'assortativity coefficient per la rete del testo inglese è:  -0.343393967304\n",
      "L'assortativity coefficient per la rete del testo italiano è:  -0.305080302844\n"
     ]
    }
   ],
   "source": [
    "print \"L'assortativity coefficient per la rete del testo inglese è: \",nx.degree_assortativity_coefficient(G_en)\n",
    "print \"L'assortativity coefficient per la rete del testo italiano è: \",nx.degree_assortativity_coefficient(G_it)"
   ]
  },
  {
   "cell_type": "markdown",
   "metadata": {},
   "source": []
  },
  {
   "cell_type": "markdown",
   "metadata": {},
   "source": []
  },
  {
   "cell_type": "markdown",
   "metadata": {},
   "source": []
  },
  {
   "cell_type": "markdown",
   "metadata": {},
   "source": [
    "<center> \n",
    "I risultati mostrano che nelle due reti le lettere (i.e nodi) con alto degree creano maggiormente link con nodi a basso degree, fondamentalmente perché le parole sono formate da una alternanza di vocali (alto degree) e consonanti (basso degree)"
   ]
  },
  {
   "cell_type": "markdown",
   "metadata": {},
   "source": [
    "<center>\n",
    "Questo fenomeno è maggiormente riscontrato nella rete relativa al testo inglese"
   ]
  },
  {
   "cell_type": "markdown",
   "metadata": {},
   "source": []
  },
  {
   "cell_type": "markdown",
   "metadata": {},
   "source": []
  },
  {
   "cell_type": "markdown",
   "metadata": {},
   "source": []
  },
  {
   "cell_type": "markdown",
   "metadata": {},
   "source": [
    "<center> \n",
    "# Training "
   ]
  },
  {
   "cell_type": "markdown",
   "metadata": {},
   "source": []
  },
  {
   "cell_type": "markdown",
   "metadata": {},
   "source": []
  },
  {
   "cell_type": "markdown",
   "metadata": {},
   "source": []
  },
  {
   "cell_type": "markdown",
   "metadata": {},
   "source": [
    "<center>\n",
    "Creazione di un dataset di file di testo"
   ]
  },
  {
   "cell_type": "code",
   "execution_count": 18,
   "metadata": {},
   "outputs": [
    {
     "name": "stderr",
     "output_type": "stream",
     "text": [
      "Calculating best minimal value for power law fit\n",
      "/Users/Cinus/anaconda/lib/python2.7/site-packages/powerlaw.py:692: RuntimeWarning: invalid value encountered in divide\n",
      "  (Theoretical_CDF * (1 - Theoretical_CDF))\n",
      "Calculating best minimal value for power law fit\n",
      "Calculating best minimal value for power law fit\n",
      "Calculating best minimal value for power law fit\n",
      "Calculating best minimal value for power law fit\n",
      "Calculating best minimal value for power law fit\n",
      "Calculating best minimal value for power law fit\n",
      "Calculating best minimal value for power law fit\n",
      "Calculating best minimal value for power law fit\n",
      "Calculating best minimal value for power law fit\n",
      "Calculating best minimal value for power law fit\n",
      "Calculating best minimal value for power law fit\n",
      "Calculating best minimal value for power law fit\n",
      "Calculating best minimal value for power law fit\n",
      "Calculating best minimal value for power law fit\n",
      "Calculating best minimal value for power law fit\n",
      "Calculating best minimal value for power law fit\n",
      "Calculating best minimal value for power law fit\n",
      "Calculating best minimal value for power law fit\n",
      "Calculating best minimal value for power law fit\n",
      "Calculating best minimal value for power law fit\n",
      "Calculating best minimal value for power law fit\n",
      "Calculating best minimal value for power law fit\n",
      "Calculating best minimal value for power law fit\n",
      "Calculating best minimal value for power law fit\n",
      "Calculating best minimal value for power law fit\n",
      "Calculating best minimal value for power law fit\n",
      "Calculating best minimal value for power law fit\n",
      "Calculating best minimal value for power law fit\n",
      "Calculating best minimal value for power law fit\n",
      "Calculating best minimal value for power law fit\n",
      "Calculating best minimal value for power law fit\n",
      "Calculating best minimal value for power law fit\n",
      "Calculating best minimal value for power law fit\n",
      "Calculating best minimal value for power law fit\n",
      "Calculating best minimal value for power law fit\n",
      "Calculating best minimal value for power law fit\n",
      "Calculating best minimal value for power law fit\n",
      "Calculating best minimal value for power law fit\n",
      "Calculating best minimal value for power law fit\n",
      "Calculating best minimal value for power law fit\n",
      "Calculating best minimal value for power law fit\n",
      "Calculating best minimal value for power law fit\n",
      "Calculating best minimal value for power law fit\n",
      "Calculating best minimal value for power law fit\n",
      "Calculating best minimal value for power law fit\n",
      "Calculating best minimal value for power law fit\n",
      "Calculating best minimal value for power law fit\n",
      "Calculating best minimal value for power law fit\n",
      "Calculating best minimal value for power law fit\n",
      "Calculating best minimal value for power law fit\n",
      "Calculating best minimal value for power law fit\n",
      "Calculating best minimal value for power law fit\n",
      "Calculating best minimal value for power law fit\n",
      "Calculating best minimal value for power law fit\n",
      "Calculating best minimal value for power law fit\n",
      "Calculating best minimal value for power law fit\n",
      "Calculating best minimal value for power law fit\n",
      "Calculating best minimal value for power law fit\n",
      "Calculating best minimal value for power law fit\n",
      "Calculating best minimal value for power law fit\n",
      "Calculating best minimal value for power law fit\n",
      "Calculating best minimal value for power law fit\n",
      "Calculating best minimal value for power law fit\n",
      "Calculating best minimal value for power law fit\n",
      "Calculating best minimal value for power law fit\n",
      "Calculating best minimal value for power law fit\n",
      "Calculating best minimal value for power law fit\n",
      "Calculating best minimal value for power law fit\n",
      "Calculating best minimal value for power law fit\n",
      "Calculating best minimal value for power law fit\n",
      "Calculating best minimal value for power law fit\n",
      "Calculating best minimal value for power law fit\n",
      "Calculating best minimal value for power law fit\n",
      "Calculating best minimal value for power law fit\n",
      "Calculating best minimal value for power law fit\n",
      "Calculating best minimal value for power law fit\n",
      "Calculating best minimal value for power law fit\n",
      "Calculating best minimal value for power law fit\n",
      "Calculating best minimal value for power law fit\n",
      "Calculating best minimal value for power law fit\n",
      "Calculating best minimal value for power law fit\n",
      "Calculating best minimal value for power law fit\n",
      "Calculating best minimal value for power law fit\n",
      "Calculating best minimal value for power law fit\n",
      "Calculating best minimal value for power law fit\n",
      "Calculating best minimal value for power law fit\n",
      "Calculating best minimal value for power law fit\n",
      "Calculating best minimal value for power law fit\n",
      "Calculating best minimal value for power law fit\n",
      "Calculating best minimal value for power law fit\n",
      "Calculating best minimal value for power law fit\n",
      "Calculating best minimal value for power law fit\n",
      "Calculating best minimal value for power law fit\n",
      "Calculating best minimal value for power law fit\n",
      "Calculating best minimal value for power law fit\n",
      "Calculating best minimal value for power law fit\n",
      "Calculating best minimal value for power law fit\n",
      "Calculating best minimal value for power law fit\n"
     ]
    },
    {
     "name": "stdout",
     "output_type": "stream",
     "text": [
      "[[0.8752851937217779 1367.0 1 -0.25439222659173488]\n",
      " [0.8889313086093373 1479.0 1 -0.23827490768587573]\n",
      " [0.8773304704150041 1375.0 1 -0.21549151135404282]\n",
      " [0.8946668990592492 1565.0 1 -0.19510254116227602]\n",
      " [0.8847734730728611 1452.0 1 -0.23335538615420118]\n",
      " [0.8802345472762083 1366.0 1 -0.23541143948546783]\n",
      " [0.8564022199588897 1184.0 1 -0.27230912953618297]\n",
      " [0.856136960194293 1104.0 1 -0.29358190640233173]\n",
      " [0.862833823584494 1138.0 1 -0.29759617842768865]\n",
      " [0.8870625760398945 1390.0 1 -0.23474536264605303]\n",
      " [0.8839904798420543 1429.0 1 -0.23055521130498638]\n",
      " [0.870123068018426 1335.0 1 -0.23383118123283483]\n",
      " [0.8786220667072475 1491.0 1 -0.19366137744766987]\n",
      " [0.8567409852993119 1067.0 1 -0.28935037779783962]\n",
      " [0.8715108959256892 1196.0 1 -0.28416051241351026]\n",
      " [0.8725632609690928 1301.0 1 -0.25035425909607745]\n",
      " [0.8808370777007201 1330.0 1 -0.2171679955345297]\n",
      " [0.8825813111040441 1497.0 1 -0.20896343957608116]\n",
      " [0.8873523909686762 1551.0 1 -0.19783520026965165]\n",
      " [0.8785417425269046 1364.0 1 -0.2555575042587806]\n",
      " [0.884579397604626 1382.0 1 -0.27292802943451483]\n",
      " [0.8681229492636972 1251.0 1 -0.25360374432578975]\n",
      " [0.8715536484097063 1281.0 1 -0.23569293340821698]\n",
      " [0.8927651647484011 1509.0 1 -0.21946961976940624]\n",
      " [0.8965613655419458 1590.0 1 -0.21190572310568515]\n",
      " [0.8747885206580857 1202.0 1 -0.28979693857273109]\n",
      " [0.8593856005561432 1169.0 1 -0.27263902371376736]\n",
      " [0.8741394271857529 1381.0 1 -0.22119269386160575]\n",
      " [0.8733687631971384 1171.0 1 -0.29561628651078936]\n",
      " [0.8890602990061194 1502.0 1 -0.19722335743477268]\n",
      " [0.8753434927840842 1341.0 1 -0.21669126225928872]\n",
      " [0.8719119257805746 1382.0 1 -0.22235928924765433]\n",
      " [0.8856203294825845 1458.0 1 -0.20724544148271756]\n",
      " [0.8687528073553474 1264.0 1 -0.28214139093008134]\n",
      " [0.8868718157973104 1480.0 1 -0.25126343218290348]\n",
      " [0.8879215447504223 1489.0 1 -0.22397593752690714]\n",
      " [0.8721988293111594 1257.0 1 -0.25369883659608689]\n",
      " [0.8630947882365921 1236.0 1 -0.23819706510475633]\n",
      " [0.8825277946337567 1521.0 1 -0.19169708812139025]\n",
      " [0.8789263120929562 1404.0 1 -0.21398263245406182]\n",
      " [0.8673456918038961 1312.0 1 -0.23402583281780159]\n",
      " [0.865738465890909 1276.0 1 -0.25264679812364604]\n",
      " [0.875566348258164 1337.0 1 -0.2264347301081322]\n",
      " [0.8792025618046821 1405.0 1 -0.22043946060355848]\n",
      " [0.8972734265330846 1505.0 1 -0.25465697012780708]\n",
      " [0.8691564376680139 1300.0 1 -0.22245510637906243]\n",
      " [0.8861425540702697 1399.0 1 -0.26582333391820434]\n",
      " [0.8677774028850374 1232.0 1 -0.25166838325550117]\n",
      " [0.8726150152147801 1301.0 1 -0.22925701299398293]\n",
      " [0.8872042260920309 1455.0 1 -0.23483024285742468]\n",
      " [0.8861425540702697 1399.0 1 -0.26582333391820434]\n",
      " [0.8382468440448603 1090.0 1 -0.27184856148727549]\n",
      " [0.8574517430330408 1204.0 1 -0.2429125568146136]\n",
      " [0.8918155810299643 1543.0 1 -0.19012712745302496]\n",
      " [0.8980460973868565 1558.0 1 -0.20079031173861686]\n",
      " [0.8708698513463624 1223.0 1 -0.27584820488383544]\n",
      " [0.8874343270510319 1446.0 1 -0.26716831819433084]\n",
      " [0.8618001504002829 1223.0 1 -0.23961198976612841]\n",
      " [0.8943475100635709 1556.0 1 -0.1951506083188034]\n",
      " [0.8815169599634588 1458.0 1 -0.19730059573740075]\n",
      " [0.8887805941534572 1482.0 1 -0.20671393624495177]\n",
      " [0.8861980533039896 1460.0 1 -0.22366889748102339]\n",
      " [0.8838145909444199 1418.0 1 -0.23317502435734999]\n",
      " [0.8746266733716126 1348.0 1 -0.21891236540800127]\n",
      " [0.885538050962065 1431.0 1 -0.22889026605222615]\n",
      " [0.8841162980862909 1394.0 1 -0.26025441818298445]\n",
      " [0.8841058557810477 1380.0 1 -0.25795462842242656]\n",
      " [0.8576810726678707 1234.0 1 -0.24223383359713904]\n",
      " [0.8492859478207438 1106.0 1 -0.23309367514825099]\n",
      " [0.8954619949880984 1505.0 1 -0.22370621922100856]\n",
      " [0.8753434927840842 1341.0 1 -0.21669126225928872]\n",
      " [0.8912365010641256 1490.0 1 -0.23797232480828104]\n",
      " [0.8978494789165031 1541.0 1 -0.23688684572786006]\n",
      " [0.8805172195058244 1309.0 1 -0.25731788352156132]\n",
      " [0.8747258476211022 1267.0 1 -0.30013449961078387]\n",
      " [0.8549485617432176 1133.0 1 -0.27059333630879534]\n",
      " [0.8815836815702208 1430.0 1 -0.22065593034668318]\n",
      " [0.8889098480227837 1508.0 1 -0.21268857229975677]\n",
      " [0.9021566008960005 1549.0 1 -0.25562822312584538]\n",
      " [0.8451682211239354 1123.0 1 -0.23798579076498652]\n",
      " [0.8842895867789993 1372.0 1 -0.24413278147446713]\n",
      " [0.8909030912029297 1487.0 1 -0.21511316622049503]\n",
      " [0.8864368845354484 1428.0 1 -0.20633348772652849]\n",
      " [0.8918975078399942 1520.0 1 -0.20333340344773274]\n",
      " [0.8574517430330408 1204.0 1 -0.2429125568146136]\n",
      " [0.8489657727289617 1059.0 1 -0.29419695530320467]\n",
      " [0.8815416077991796 1359.0 1 -0.24485886095617376]\n",
      " [0.9012334000185663 1596.0 1 -0.19167804311428455]\n",
      " [0.8943231680824222 1553.0 1 -0.23445132362329249]\n",
      " [0.8615614430565195 1191.0 1 -0.25048896941435173]\n",
      " [0.883397114693386 1389.0 1 -0.2330291340928074]\n",
      " [0.8785373319916222 1435.0 1 -0.2198987976980728]\n",
      " [0.8986842943479101 1488.0 1 -0.26223351798656086]\n",
      " [0.8693060998169356 1304.0 1 -0.24820070390467536]\n",
      " [0.8787643305833197 1413.0 1 -0.22081396287752345]\n",
      " [0.880638627890018 1412.0 1 -0.21792267616287289]\n",
      " [0.8772115540193345 1245.0 1 -0.28473467277253434]\n",
      " [0.8719573671154793 1395.0 1 -0.22919259394333452]\n",
      " [0.8980460973868565 1558.0 1 -0.20079031173861686]\n",
      " [0.8899077922496285 1577.0 1 -0.18927665866076462]]\n",
      "CPU times: user 3min 24s, sys: 7.38 s, total: 3min 31s\n",
      "Wall time: 3min 26s\n"
     ]
    },
    {
     "name": "stderr",
     "output_type": "stream",
     "text": [
      "Calculating best minimal value for power law fit\n"
     ]
    }
   ],
   "source": [
    "%%time\n",
    "#grandezza dataset\n",
    "N_tot = 200\n",
    "\n",
    "#file txt in input (Dizionario inglese)\n",
    "alfabeto = ['a','b','c','d','e','f','g','h','i','j','k','l','m','n','o','p','q','r','s','t','u','v','w','x','y','z']\n",
    "f_en = open('Dizionario_Inglese.txt', 'r')\n",
    "fh_en = f_en.readlines()\n",
    "\n",
    "N = N_tot/2\n",
    "X_en = np.zeros((N,4), dtype=object) #matrice dell'input space\n",
    "Y_en = []                            #lista dell'output space\n",
    "\n",
    "#creo N testi con parole random dal dizionario\n",
    "for sample in range(N):\n",
    "    fh_2 = shuffle(fh_en, random_state=randint(42)) #mischio le parole\n",
    "    list_sample = []\n",
    "    #creo il testo di lunghezza random\n",
    "    for n_line in range(randint(len(fh_2)/10, len(fh_2)/3)):\n",
    "        punctuation='!?,.:;\"\\')(_-{}[]1234567890*+/'\n",
    "        line = fh_2[n_line].translate(None, punctuation).replace('\\xc3\\xb9','u').replace('\\xc3\\xa8', 'e').replace('\\u00E9', 'e').replace('\\xc3\\xb2','o').replace('\\u00F4', 'o').replace('\\xc3\\xa0', 'a').replace('\\n',' ').replace('\\n\\n',' ').replace('\\xc3\\xac', 'i').replace('\\xc3\\xa9', 'e').lower()\n",
    "        for word in line:\n",
    "            for letter in word:\n",
    "                list_sample.append(letter)\n",
    "#studio la rete di ciascun testo            \n",
    "    #creazione nodi\n",
    "    G_sample = nx.Graph()\n",
    "    G_sample.add_nodes_from(alfabeto)\n",
    "    #creazione link\n",
    "    for i in range(len(list_sample)-1):\n",
    "        if G_sample.edges().count((list_sample[i],list_sample[i+1])) == 0:\n",
    "            G_sample.add_edge(list_sample[i],list_sample[i+1], weight=1)\n",
    "        else:\n",
    "            G_sample[list_sample[i]][list_sample[i+1]]['weight'] += 1 \n",
    "    for j in alfabeto:\n",
    "        if G_sample.edges().count(('', j)) != 0:\n",
    "            G.remove_edge('', j)\n",
    "    if G_sample.nodes().count(' ') != 0:\n",
    "        G_sample.remove_node(' ')\n",
    "    \n",
    "    #calcolo un input vector e output vector per ciascun testo creato\n",
    "    degree = np.array(G_sample.degree().values())\n",
    "    fit_function = pwl.Fit(degree)\n",
    "    #x_1 = fit_function.power_law.alpha\n",
    "    x_2 = nx.average_clustering(G_sample)\n",
    "    x_3 = float(sum(nx.triangles(G_sample).values()))/3\n",
    "    x_4 = nx.number_connected_components(G_sample)\n",
    "    x_5 = nx.degree_assortativity_coefficient(G_sample)\n",
    "    X_en[sample] = [x_2, x_3, x_4, x_5]\n",
    "    Y_en.append(1) #l'output del file inglese è 1\n",
    "print X_en"
   ]
  },
  {
   "cell_type": "code",
   "execution_count": 19,
   "metadata": {},
   "outputs": [
    {
     "name": "stderr",
     "output_type": "stream",
     "text": [
      "Values less than or equal to 0 in data. Throwing out 0 or negative values\n",
      "Calculating best minimal value for power law fit\n",
      "Values less than or equal to 0 in data. Throwing out 0 or negative values\n",
      "Calculating best minimal value for power law fit\n",
      "Values less than or equal to 0 in data. Throwing out 0 or negative values\n",
      "Calculating best minimal value for power law fit\n",
      "Values less than or equal to 0 in data. Throwing out 0 or negative values\n",
      "Calculating best minimal value for power law fit\n",
      "Values less than or equal to 0 in data. Throwing out 0 or negative values\n",
      "Calculating best minimal value for power law fit\n",
      "Values less than or equal to 0 in data. Throwing out 0 or negative values\n",
      "Calculating best minimal value for power law fit\n",
      "Values less than or equal to 0 in data. Throwing out 0 or negative values\n",
      "Calculating best minimal value for power law fit\n",
      "Values less than or equal to 0 in data. Throwing out 0 or negative values\n",
      "Calculating best minimal value for power law fit\n",
      "Values less than or equal to 0 in data. Throwing out 0 or negative values\n",
      "Calculating best minimal value for power law fit\n",
      "Values less than or equal to 0 in data. Throwing out 0 or negative values\n",
      "Calculating best minimal value for power law fit\n",
      "Values less than or equal to 0 in data. Throwing out 0 or negative values\n",
      "Calculating best minimal value for power law fit\n",
      "Values less than or equal to 0 in data. Throwing out 0 or negative values\n",
      "Calculating best minimal value for power law fit\n",
      "Values less than or equal to 0 in data. Throwing out 0 or negative values\n",
      "Calculating best minimal value for power law fit\n",
      "Values less than or equal to 0 in data. Throwing out 0 or negative values\n",
      "Calculating best minimal value for power law fit\n",
      "Values less than or equal to 0 in data. Throwing out 0 or negative values\n",
      "Calculating best minimal value for power law fit\n",
      "Values less than or equal to 0 in data. Throwing out 0 or negative values\n",
      "Calculating best minimal value for power law fit\n",
      "Values less than or equal to 0 in data. Throwing out 0 or negative values\n",
      "Calculating best minimal value for power law fit\n",
      "Values less than or equal to 0 in data. Throwing out 0 or negative values\n",
      "Calculating best minimal value for power law fit\n",
      "Values less than or equal to 0 in data. Throwing out 0 or negative values\n",
      "Calculating best minimal value for power law fit\n",
      "Values less than or equal to 0 in data. Throwing out 0 or negative values\n",
      "Calculating best minimal value for power law fit\n",
      "Values less than or equal to 0 in data. Throwing out 0 or negative values\n",
      "Calculating best minimal value for power law fit\n",
      "Values less than or equal to 0 in data. Throwing out 0 or negative values\n",
      "Calculating best minimal value for power law fit\n",
      "Values less than or equal to 0 in data. Throwing out 0 or negative values\n",
      "Calculating best minimal value for power law fit\n",
      "Values less than or equal to 0 in data. Throwing out 0 or negative values\n",
      "Calculating best minimal value for power law fit\n",
      "Values less than or equal to 0 in data. Throwing out 0 or negative values\n",
      "Calculating best minimal value for power law fit\n",
      "Values less than or equal to 0 in data. Throwing out 0 or negative values\n",
      "Calculating best minimal value for power law fit\n",
      "Values less than or equal to 0 in data. Throwing out 0 or negative values\n",
      "Calculating best minimal value for power law fit\n",
      "Values less than or equal to 0 in data. Throwing out 0 or negative values\n",
      "Calculating best minimal value for power law fit\n",
      "Values less than or equal to 0 in data. Throwing out 0 or negative values\n",
      "Calculating best minimal value for power law fit\n",
      "Values less than or equal to 0 in data. Throwing out 0 or negative values\n",
      "Calculating best minimal value for power law fit\n",
      "Values less than or equal to 0 in data. Throwing out 0 or negative values\n",
      "Calculating best minimal value for power law fit\n",
      "Values less than or equal to 0 in data. Throwing out 0 or negative values\n",
      "Calculating best minimal value for power law fit\n",
      "Values less than or equal to 0 in data. Throwing out 0 or negative values\n",
      "Calculating best minimal value for power law fit\n",
      "Values less than or equal to 0 in data. Throwing out 0 or negative values\n",
      "Calculating best minimal value for power law fit\n",
      "Values less than or equal to 0 in data. Throwing out 0 or negative values\n",
      "Calculating best minimal value for power law fit\n",
      "Values less than or equal to 0 in data. Throwing out 0 or negative values\n",
      "Calculating best minimal value for power law fit\n",
      "Values less than or equal to 0 in data. Throwing out 0 or negative values\n",
      "Calculating best minimal value for power law fit\n",
      "Values less than or equal to 0 in data. Throwing out 0 or negative values\n",
      "Calculating best minimal value for power law fit\n",
      "Values less than or equal to 0 in data. Throwing out 0 or negative values\n",
      "Calculating best minimal value for power law fit\n",
      "Values less than or equal to 0 in data. Throwing out 0 or negative values\n",
      "Calculating best minimal value for power law fit\n",
      "Values less than or equal to 0 in data. Throwing out 0 or negative values\n",
      "Calculating best minimal value for power law fit\n",
      "Values less than or equal to 0 in data. Throwing out 0 or negative values\n",
      "Calculating best minimal value for power law fit\n",
      "Values less than or equal to 0 in data. Throwing out 0 or negative values\n",
      "Calculating best minimal value for power law fit\n",
      "Values less than or equal to 0 in data. Throwing out 0 or negative values\n",
      "Calculating best minimal value for power law fit\n",
      "Values less than or equal to 0 in data. Throwing out 0 or negative values\n",
      "Calculating best minimal value for power law fit\n",
      "Values less than or equal to 0 in data. Throwing out 0 or negative values\n",
      "Calculating best minimal value for power law fit\n",
      "Values less than or equal to 0 in data. Throwing out 0 or negative values\n",
      "Calculating best minimal value for power law fit\n",
      "Values less than or equal to 0 in data. Throwing out 0 or negative values\n",
      "Calculating best minimal value for power law fit\n",
      "Values less than or equal to 0 in data. Throwing out 0 or negative values\n",
      "Calculating best minimal value for power law fit\n",
      "Values less than or equal to 0 in data. Throwing out 0 or negative values\n",
      "Calculating best minimal value for power law fit\n",
      "Values less than or equal to 0 in data. Throwing out 0 or negative values\n",
      "Calculating best minimal value for power law fit\n",
      "Values less than or equal to 0 in data. Throwing out 0 or negative values\n",
      "Calculating best minimal value for power law fit\n",
      "Values less than or equal to 0 in data. Throwing out 0 or negative values\n",
      "Calculating best minimal value for power law fit\n",
      "Values less than or equal to 0 in data. Throwing out 0 or negative values\n",
      "Calculating best minimal value for power law fit\n",
      "Values less than or equal to 0 in data. Throwing out 0 or negative values\n",
      "Calculating best minimal value for power law fit\n",
      "Values less than or equal to 0 in data. Throwing out 0 or negative values\n",
      "Calculating best minimal value for power law fit\n",
      "Values less than or equal to 0 in data. Throwing out 0 or negative values\n",
      "Calculating best minimal value for power law fit\n",
      "Values less than or equal to 0 in data. Throwing out 0 or negative values\n",
      "Calculating best minimal value for power law fit\n",
      "Values less than or equal to 0 in data. Throwing out 0 or negative values\n",
      "Calculating best minimal value for power law fit\n",
      "Values less than or equal to 0 in data. Throwing out 0 or negative values\n",
      "Calculating best minimal value for power law fit\n",
      "Values less than or equal to 0 in data. Throwing out 0 or negative values\n",
      "Calculating best minimal value for power law fit\n",
      "Values less than or equal to 0 in data. Throwing out 0 or negative values\n",
      "Calculating best minimal value for power law fit\n",
      "Values less than or equal to 0 in data. Throwing out 0 or negative values\n",
      "Calculating best minimal value for power law fit\n",
      "Values less than or equal to 0 in data. Throwing out 0 or negative values\n",
      "Calculating best minimal value for power law fit\n",
      "Values less than or equal to 0 in data. Throwing out 0 or negative values\n",
      "Calculating best minimal value for power law fit\n",
      "Values less than or equal to 0 in data. Throwing out 0 or negative values\n",
      "Calculating best minimal value for power law fit\n",
      "Values less than or equal to 0 in data. Throwing out 0 or negative values\n",
      "Calculating best minimal value for power law fit\n",
      "Values less than or equal to 0 in data. Throwing out 0 or negative values\n",
      "Calculating best minimal value for power law fit\n",
      "Values less than or equal to 0 in data. Throwing out 0 or negative values\n",
      "Calculating best minimal value for power law fit\n",
      "Values less than or equal to 0 in data. Throwing out 0 or negative values\n",
      "Calculating best minimal value for power law fit\n",
      "Values less than or equal to 0 in data. Throwing out 0 or negative values\n",
      "Calculating best minimal value for power law fit\n",
      "Values less than or equal to 0 in data. Throwing out 0 or negative values\n",
      "Calculating best minimal value for power law fit\n",
      "Values less than or equal to 0 in data. Throwing out 0 or negative values\n",
      "Calculating best minimal value for power law fit\n",
      "Values less than or equal to 0 in data. Throwing out 0 or negative values\n",
      "Calculating best minimal value for power law fit\n",
      "Values less than or equal to 0 in data. Throwing out 0 or negative values\n",
      "Calculating best minimal value for power law fit\n",
      "Values less than or equal to 0 in data. Throwing out 0 or negative values\n",
      "Calculating best minimal value for power law fit\n",
      "Values less than or equal to 0 in data. Throwing out 0 or negative values\n",
      "Calculating best minimal value for power law fit\n",
      "Values less than or equal to 0 in data. Throwing out 0 or negative values\n",
      "Calculating best minimal value for power law fit\n",
      "Values less than or equal to 0 in data. Throwing out 0 or negative values\n",
      "Calculating best minimal value for power law fit\n",
      "Values less than or equal to 0 in data. Throwing out 0 or negative values\n",
      "Calculating best minimal value for power law fit\n",
      "Values less than or equal to 0 in data. Throwing out 0 or negative values\n",
      "Calculating best minimal value for power law fit\n",
      "Values less than or equal to 0 in data. Throwing out 0 or negative values\n",
      "Calculating best minimal value for power law fit\n",
      "Values less than or equal to 0 in data. Throwing out 0 or negative values\n",
      "Calculating best minimal value for power law fit\n",
      "Values less than or equal to 0 in data. Throwing out 0 or negative values\n",
      "Calculating best minimal value for power law fit\n",
      "Values less than or equal to 0 in data. Throwing out 0 or negative values\n",
      "Calculating best minimal value for power law fit\n",
      "Values less than or equal to 0 in data. Throwing out 0 or negative values\n",
      "Calculating best minimal value for power law fit\n",
      "Values less than or equal to 0 in data. Throwing out 0 or negative values\n",
      "Calculating best minimal value for power law fit\n",
      "Values less than or equal to 0 in data. Throwing out 0 or negative values\n",
      "Calculating best minimal value for power law fit\n",
      "Values less than or equal to 0 in data. Throwing out 0 or negative values\n",
      "Calculating best minimal value for power law fit\n",
      "Values less than or equal to 0 in data. Throwing out 0 or negative values\n",
      "Calculating best minimal value for power law fit\n",
      "Values less than or equal to 0 in data. Throwing out 0 or negative values\n",
      "Calculating best minimal value for power law fit\n",
      "Values less than or equal to 0 in data. Throwing out 0 or negative values\n",
      "Calculating best minimal value for power law fit\n",
      "Values less than or equal to 0 in data. Throwing out 0 or negative values\n",
      "Calculating best minimal value for power law fit\n",
      "Values less than or equal to 0 in data. Throwing out 0 or negative values\n",
      "Calculating best minimal value for power law fit\n",
      "Values less than or equal to 0 in data. Throwing out 0 or negative values\n",
      "Calculating best minimal value for power law fit\n",
      "Values less than or equal to 0 in data. Throwing out 0 or negative values\n",
      "Calculating best minimal value for power law fit\n",
      "Values less than or equal to 0 in data. Throwing out 0 or negative values\n",
      "Calculating best minimal value for power law fit\n",
      "Values less than or equal to 0 in data. Throwing out 0 or negative values\n",
      "Calculating best minimal value for power law fit\n",
      "Values less than or equal to 0 in data. Throwing out 0 or negative values\n",
      "Calculating best minimal value for power law fit\n"
     ]
    },
    {
     "name": "stdout",
     "output_type": "stream",
     "text": [
      "[[0.6884586154967992 647.0 6 -0.29436655652986082]\n",
      " [0.6868110962538205 658.0 6 -0.29821142813598944]\n",
      " [0.6743544998618957 604.0 6 -0.31168782037944537]\n",
      " [0.6918229110007574 682.0 6 -0.26616378991292861]\n",
      " [0.6882680657835457 620.0 6 -0.29934473924111682]\n",
      " [0.6733098677113124 612.0 6 -0.30075202264882922]\n",
      " [0.6873604500711484 657.0 6 -0.25459919412090093]\n",
      " [0.6918229110007574 682.0 6 -0.26616378991292861]\n",
      " [0.6856369894295591 636.0 6 -0.30278143663712792]\n",
      " [0.6823770653406016 622.0 6 -0.29055900678837193]\n",
      " [0.6914927368321884 627.0 6 -0.32238424991072945]\n",
      " [0.6910739102413139 640.0 6 -0.30333791342680144]\n",
      " [0.6946838087188965 666.0 6 -0.31269570003757702]\n",
      " [0.6946117601745642 648.0 6 -0.3130841373591276]\n",
      " [0.6890114904906787 672.0 6 -0.30531362801959072]\n",
      " [0.6959314672764966 665.0 6 -0.3053773087432633]\n",
      " [0.6887134295459028 657.0 6 -0.32327972456727816]\n",
      " [0.6881265261640218 647.0 6 -0.27697011281793071]\n",
      " [0.6832850961419932 616.0 6 -0.31767347061890516]\n",
      " [0.6847765358773271 631.0 6 -0.30556485056422428]\n",
      " [0.6938860576287477 660.0 6 -0.30746449400887327]\n",
      " [0.684297617046155 626.0 6 -0.32080932109145327]\n",
      " [0.702416484935282 666.0 6 -0.31904986559710269]\n",
      " [0.6969833222210488 667.0 6 -0.31239046794110054]\n",
      " [0.6916320992516383 667.0 6 -0.29358042637885157]\n",
      " [0.681954873717368 608.0 6 -0.30164613594837136]\n",
      " [0.6854993272089935 639.0 6 -0.30704332680165497]\n",
      " [0.684297617046155 626.0 6 -0.32080932109145327]\n",
      " [0.6937702718232474 688.0 6 -0.29748650411866212]\n",
      " [0.6834313652941104 629.0 6 -0.30724670208690419]\n",
      " [0.6847765358773271 631.0 6 -0.30556485056422428]\n",
      " [0.6858119959771146 643.0 6 -0.31145775927397723]\n",
      " [0.6858617404713037 636.0 6 -0.31138048853615574]\n",
      " [0.679760610015168 616.0 6 -0.31798099037865224]\n",
      " [0.6845703497664282 631.0 6 -0.29655862716006604]\n",
      " [0.6826724053762239 623.0 6 -0.28175034452879233]\n",
      " [0.681401156590355 618.0 6 -0.29410375355611157]\n",
      " [0.6887134295459028 657.0 6 -0.32327972456727816]\n",
      " [0.6848039648435246 622.0 6 -0.27629140290736454]\n",
      " [0.684168262333037 638.0 6 -0.3151559115342471]\n",
      " [0.6887134295459028 657.0 6 -0.32327972456727816]\n",
      " [0.689744240139837 627.0 6 -0.29506452705083014]\n",
      " [0.6950649993772506 669.0 6 -0.32021756616999386]\n",
      " [0.684905358881967 626.0 6 -0.32366431741727403]\n",
      " [0.684905358881967 626.0 6 -0.32366431741727403]\n",
      " [0.6884586154967992 647.0 6 -0.29436655652986082]\n",
      " [0.682082322244001 620.0 6 -0.28063992095987639]\n",
      " [0.6854453541846043 634.0 6 -0.31618560918936928]\n",
      " [0.6841837827475942 629.0 6 -0.30555973686782212]\n",
      " [0.6848039648435246 622.0 6 -0.27629140290736454]\n",
      " [0.6923328063282729 637.0 6 -0.31682479730385366]\n",
      " [0.6950649993772506 669.0 6 -0.32021756616999386]\n",
      " [0.6854453541846043 634.0 6 -0.31618560918936928]\n",
      " [0.6931171499393525 645.0 6 -0.31213691825084683]\n",
      " [0.6849186041824501 634.0 6 -0.31173782757105112]\n",
      " [0.6892256757753833 675.0 6 -0.24623511889887448]\n",
      " [0.6892256757753833 675.0 6 -0.24623511889887448]\n",
      " [0.6879659447942902 623.0 6 -0.29235839683463966]\n",
      " [0.6743544998618957 604.0 6 -0.31168782037944537]\n",
      " [0.6874781555638109 639.0 6 -0.27502775739460472]\n",
      " [0.6985876346612746 676.0 6 -0.31027353578654915]\n",
      " [0.6923328063282729 637.0 6 -0.31682479730385366]\n",
      " [0.6869655099961257 642.0 6 -0.32144770774795206]\n",
      " [0.6921972512474504 633.0 6 -0.3066992323796231]\n",
      " [0.6854993272089935 639.0 6 -0.30704332680165497]\n",
      " [0.6845703497664282 631.0 6 -0.29655862716006604]\n",
      " [0.6838680643720203 630.0 6 -0.30319361994722366]\n",
      " [0.682171041192369 620.0 6 -0.30335030123049889]\n",
      " [0.6963638560473787 663.0 6 -0.29259222913059751]\n",
      " [0.6826724053762239 623.0 6 -0.28175034452879233]\n",
      " [0.6877480843253116 663.0 6 -0.3038281432294177]\n",
      " [0.702416484935282 666.0 6 -0.31904986559710269]\n",
      " [0.6997876417159921 691.0 6 -0.31174938356870524]\n",
      " [0.685199590634747 638.0 6 -0.29471517589956359]\n",
      " [0.6885895207876632 667.0 6 -0.24371390011327199]\n",
      " [0.682171041192369 620.0 6 -0.30335030123049889]\n",
      " [0.6970690179496509 671.0 6 -0.25407670686576667]\n",
      " [0.692112804513291 640.0 6 -0.31868474905483679]\n",
      " [0.6918229110007574 682.0 6 -0.26616378991292861]\n",
      " [0.6878222975918193 660.0 6 -0.30644081035421888]\n",
      " [0.6882292521783406 667.0 6 -0.28960239914013336]\n",
      " [0.6918229110007574 682.0 6 -0.26616378991292861]\n",
      " [0.6848039648435246 622.0 6 -0.27629140290736454]\n",
      " [0.685199590634747 638.0 6 -0.29471517589956359]\n",
      " [0.6997876417159921 691.0 6 -0.31174938356870524]\n",
      " [0.6848039648435246 622.0 6 -0.27629140290736454]\n",
      " [0.6849186041824501 634.0 6 -0.31173782757105112]\n",
      " [0.6791158417319407 596.0 6 -0.34337914670354863]\n",
      " [0.6931171499393525 645.0 6 -0.31213691825084683]\n",
      " [0.6831421788852128 622.0 6 -0.29937113333798671]\n",
      " [0.681954873717368 608.0 6 -0.30164613594837136]\n",
      " [0.6963638560473787 663.0 6 -0.29259222913059751]\n",
      " [0.6866923365719375 640.0 6 -0.30340792004318906]\n",
      " [0.6844049314723549 629.0 6 -0.27942888095667923]\n",
      " [0.6963638560473787 663.0 6 -0.29259222913059751]\n",
      " [0.6854453541846043 634.0 6 -0.31618560918936928]\n",
      " [0.684905358881967 626.0 6 -0.32366431741727403]\n",
      " [0.6854453541846043 634.0 6 -0.31618560918936928]\n",
      " [0.6883694902098754 663.0 6 -0.31695853521243428]\n",
      " [0.6921972512474504 633.0 6 -0.3066992323796231]]\n",
      "CPU times: user 14min 16s, sys: 31 s, total: 14min 47s\n",
      "Wall time: 14min 40s\n"
     ]
    },
    {
     "name": "stderr",
     "output_type": "stream",
     "text": [
      "Values less than or equal to 0 in data. Throwing out 0 or negative values\n",
      "Calculating best minimal value for power law fit\n"
     ]
    }
   ],
   "source": [
    "%%time\n",
    "#file txt in input\n",
    "alfabeto = ['a','b','c','d','e','f','g','h','i','j','k','l','m','n','o','p','q','r','s','t','u','v','w','x','y','z']\n",
    "f_it = open('Dizionario_Italiano.txt', 'r')\n",
    "fh_it = f_it.readlines()\n",
    "N = N_tot/2\n",
    "X_it = np.zeros((N,4), dtype=object)\n",
    "Y_it = []\n",
    "\n",
    "for sample in range(N):\n",
    "    fh_2 = shuffle(fh_it, random_state=randint(42))\n",
    "    list_sample = []\n",
    "    for n_line in range(randint(len(fh_2)/10, len(fh_2)/5)):\n",
    "        punctuation='!?,.:;\"\\')(_-{}[]1234567890*+/'\n",
    "        line = fh_2[n_line].translate(None, punctuation).replace('\\xc3\\xb9','u').replace('\\xc3\\xa8', 'e').replace('\\u00E9', 'e').replace('\\xc3\\xb2','o').replace('\\u00F4', 'o').replace('\\xc3\\xa0', 'a').replace('\\n',' ').replace('\\n\\n',' ').replace('\\xc3\\xac', 'i').replace('\\xc3\\xa9', 'e').lower()\n",
    "        for word in line:\n",
    "            for letter in word:\n",
    "                list_sample.append(letter)       \n",
    "    #creazione nodi\n",
    "    G_sample = nx.Graph()\n",
    "    G_sample.add_nodes_from(alfabeto)\n",
    "    #creazione link\n",
    "    for i in range(len(list_sample)-1):\n",
    "        if G_sample.edges().count((list_sample[i],list_sample[i+1])) == 0:\n",
    "            G_sample.add_edge(list_sample[i],list_sample[i+1], weight=1)\n",
    "        else:\n",
    "            G_sample[list_sample[i]][list_sample[i+1]]['weight'] += 1 \n",
    "    for j in alfabeto:\n",
    "        if G_sample.edges().count(('', j)) != 0:\n",
    "            G.remove_edge('', j)\n",
    "    if G_sample.nodes().count(' ') != 0:\n",
    "        G_sample.remove_node(' ')\n",
    "    \n",
    "    #input vector\n",
    "    degree = np.array(G_sample.degree().values())\n",
    "    fit_function = pwl.Fit(degree)\n",
    "    #x_1 = fit_function.power_law.alpha\n",
    "    x_2 = nx.average_clustering(G_sample)\n",
    "    x_3 = float(sum(nx.triangles(G_sample).values()))/3\n",
    "    x_4 = nx.number_connected_components(G_sample)\n",
    "    x_5 = nx.degree_assortativity_coefficient(G_sample)\n",
    "    X_it[sample] = [x_2, x_3, x_4, x_5]\n",
    "    Y_it.append(0) #l'output del file inglese è 0\n",
    "print X_it"
   ]
  },
  {
   "cell_type": "code",
   "execution_count": 20,
   "metadata": {},
   "outputs": [],
   "source": [
    "#Concateno i due dataset per crearne uno unico e mischiato\n",
    "X = np.concatenate((X_it, X_en), axis=0)\n",
    "Y = np.concatenate((Y_it, Y_en), axis=0)\n",
    "\n",
    "from sklearn.utils import shuffle\n",
    "X_all, Y_all = shuffle(X, Y, random_state=42)"
   ]
  },
  {
   "cell_type": "markdown",
   "metadata": {
    "collapsed": true
   },
   "source": []
  },
  {
   "cell_type": "markdown",
   "metadata": {
    "collapsed": true
   },
   "source": []
  },
  {
   "cell_type": "markdown",
   "metadata": {
    "collapsed": true
   },
   "source": []
  },
  {
   "cell_type": "markdown",
   "metadata": {},
   "source": [
    "<center> \n",
    "# Testing "
   ]
  },
  {
   "cell_type": "code",
   "execution_count": 39,
   "metadata": {},
   "outputs": [
    {
     "name": "stdout",
     "output_type": "stream",
     "text": [
      "Scegli il testo:\n",
      " 0 <- Italiano\n",
      " 1 <- Inglese\n",
      "0\n"
     ]
    }
   ],
   "source": [
    "#file txt in input\n",
    "testo = input ('Scegli il testo:\\n 0 <- Italiano\\n 1 <- Inglese\\n')\n",
    "if testo == 1:\n",
    "    f = open('Testo_inglese.txt', 'r')\n",
    "elif testo == 0:\n",
    "    f = open('Testo_italiano.txt', 'r')\n",
    "else:\n",
    "    print \"Scelta sbagliata\"\n",
    "\n",
    "    \n",
    "fh = f.readlines()\n",
    "\n",
    "lista = []\n",
    "for n_line in range(len(fh)):\n",
    "    punctuation='!?,.:;\"\\')(_-{}[]1234567890*+/'\n",
    "    line = fh[n_line].translate(None, punctuation).replace('\\xc3\\xb9','u').replace('\\xc3\\xa8', 'e').replace('\\u00E9', 'e').replace('\\xc3\\xb2','o').replace('\\u00F4', 'o').replace('\\xc3\\xa0', 'a').replace('\\n',' ').replace('\\n\\n',' ').replace('\\xc3\\xac', 'i').replace('\\xc3\\xa9', 'e').lower()\n",
    "    for word in line:\n",
    "        for letter in word:\n",
    "            lista.append(letter)"
   ]
  },
  {
   "cell_type": "code",
   "execution_count": 40,
   "metadata": {
    "collapsed": true
   },
   "outputs": [],
   "source": [
    "#creazione rete\n",
    "G=nx.Graph()\n",
    "alfabeto = ['a','b','c','d','e','f','g','h','i','j','k','l','m','n','o','p','q','r','s','t','u','v','w','x','y','z']\n",
    "G.add_nodes_from(alfabeto)"
   ]
  },
  {
   "cell_type": "code",
   "execution_count": 41,
   "metadata": {},
   "outputs": [],
   "source": [
    "#creazione link\n",
    "for i in range(len(lista)-1):\n",
    "    if G.edges().count((lista[i],lista[i+1])) == 0:\n",
    "        G.add_edge(lista[i],lista[i+1], weight=1)\n",
    "    else:\n",
    "        G[lista[i]][lista[i+1]]['weight'] += 1 \n",
    "for j in alfabeto:\n",
    "    if G.edges().count(('', j)) != 0:\n",
    "        G.remove_edge('', j)\n",
    "if G.nodes().count(' ') != 0:\n",
    "    G.remove_node(' ')"
   ]
  },
  {
   "cell_type": "code",
   "execution_count": 42,
   "metadata": {},
   "outputs": [
    {
     "data": {
      "image/png": "[encoded data removed]",
      "text/plain": [
       "<matplotlib.figure.Figure at 0x117231750>"
      ]
     },
     "metadata": {},
     "output_type": "display_data"
    }
   ],
   "source": [
    "#visualizzazione grafica della rete\n",
    "pos = nx.spring_layout(G, dim=2, k=None, pos=None, fixed=None, iterations=50, weight='weight', scale=1.0)\n",
    "plt.figure(figsize=(9,7))\n",
    "nx.draw_networkx(G,pos)"
   ]
  },
  {
   "cell_type": "code",
   "execution_count": 43,
   "metadata": {},
   "outputs": [
    {
     "name": "stdout",
     "output_type": "stream",
     "text": [
      "[0.5973109866239182, 322.0, 6, -0.30508030284405097]\n"
     ]
    },
    {
     "name": "stderr",
     "output_type": "stream",
     "text": [
      "Values less than or equal to 0 in data. Throwing out 0 or negative values\n",
      "Calculating best minimal value for power law fit\n"
     ]
    }
   ],
   "source": [
    "#input vector\n",
    "degree = np.array(G.degree().values())\n",
    "fit_function = pwl.Fit(degree)\n",
    "x_1 = fit_function.power_law.alpha\n",
    "x_2 = nx.average_clustering(G)\n",
    "x_3 = float(sum(nx.triangles(G).values()))/3\n",
    "x_4 = nx.number_connected_components(G)\n",
    "x_5 = nx.degree_assortativity_coefficient(G)\n",
    "X_test = [x_2, x_3, x_4, x_5]\n",
    "Y_test = [1]\n",
    "print X_test"
   ]
  },
  {
   "cell_type": "code",
   "execution_count": 44,
   "metadata": {},
   "outputs": [
    {
     "name": "stdout",
     "output_type": "stream",
     "text": [
      "Il testo è in italiano\n"
     ]
    },
    {
     "name": "stderr",
     "output_type": "stream",
     "text": [
      "/Users/Cinus/anaconda/lib/python2.7/site-packages/sklearn/utils/validation.py:395: DeprecationWarning: Passing 1d arrays as data is deprecated in 0.17 and will raise ValueError in 0.19. Reshape your data either using X.reshape(-1, 1) if your data has a single feature or X.reshape(1, -1) if it contains a single sample.\n",
      "  DeprecationWarning)\n"
     ]
    }
   ],
   "source": [
    "from sklearn.neural_network import MLPClassifier\n",
    "from sklearn.ensemble import RandomForestClassifier\n",
    "from sklearn.naive_bayes import GaussianNB\n",
    "#model =  MLPClassifier((100,50,10),activation='relu',solver='adam', max_iter=300000000, learning_rate='adaptive', random_state=0)\n",
    "#model = RandomForestClassifier(max_depth=5, n_estimators=50)\n",
    "model = GaussianNB()\n",
    "model.fit(X_all, Y_all)\n",
    "\n",
    "if model.predict(X_test)== 0:\n",
    "    print \"Il testo è in italiano\"\n",
    "else:\n",
    "    print \"Il testo è in inglese\""
   ]
  },
  {
   "cell_type": "code",
   "execution_count": null,
   "metadata": {
    "collapsed": true
   },
   "outputs": [],
   "source": []
  },
  {
   "cell_type": "code",
   "execution_count": null,
   "metadata": {
    "collapsed": true
   },
   "outputs": [],
   "source": []
  },
  {
   "cell_type": "code",
   "execution_count": null,
   "metadata": {
    "collapsed": true
   },
   "outputs": [],
   "source": []
  },
  {
   "cell_type": "code",
   "execution_count": null,
   "metadata": {
    "collapsed": true
   },
   "outputs": [],
   "source": []
  },
  {
   "cell_type": "code",
   "execution_count": null,
   "metadata": {
    "collapsed": true
   },
   "outputs": [],
   "source": []
  },
  {
   "cell_type": "code",
   "execution_count": null,
   "metadata": {
    "collapsed": true
   },
   "outputs": [],
   "source": []
  },
  {
   "cell_type": "code",
   "execution_count": null,
   "metadata": {
    "collapsed": true
   },
   "outputs": [],
   "source": []
  },
  {
   "cell_type": "code",
   "execution_count": null,
   "metadata": {
    "collapsed": true
   },
   "outputs": [],
   "source": []
  },
  {
   "cell_type": "code",
   "execution_count": null,
   "metadata": {
    "collapsed": true
   },
   "outputs": [],
   "source": []
  },
  {
   "cell_type": "code",
   "execution_count": null,
   "metadata": {
    "collapsed": true
   },
   "outputs": [],
   "source": []
  },
  {
   "cell_type": "code",
   "execution_count": null,
   "metadata": {},
   "outputs": [],
   "source": [
    "#%%time\n",
    "import numpy as np\n",
    "from scipy import misc\n",
    "from PIL import Image\n",
    "from sklearn.decomposition import PCA\n",
    "import matplotlib.pyplot as plt\n",
    "\n",
    "N = 50\n",
    "X_it = np.zeros((N,786432))\n",
    "y_it = []\n",
    "for i in range(N):\n",
    "    pos = nx.spring_layout(G, dim=2, k=None, pos=None, fixed=None, iterations=randint(100), weight='weight')\n",
    "    sns.set_style(\"whitegrid\", {'axes.grid' : False, 'axes.edgecolor': '0',  'xtick.color': '0','ytick.color': '0'})\n",
    "    plt.figure(figsize=(6,4))\n",
    "    nx.draw_networkx(G,pos)\n",
    "    savefig('Image_it.png')\n",
    "    img = misc.imread('Image_it.png');\n",
    "    img = misc.face(gray=True)\n",
    "    [width1,height1]=[img.shape[0],img.shape[1]]\n",
    "    img_2 = img.reshape(width1*height1);\n",
    "    X_it[i] = img_2\n",
    "    y_it.append(0)\n",
    "X_it"
   ]
  },
  {
   "cell_type": "code",
   "execution_count": null,
   "metadata": {},
   "outputs": [],
   "source": [
    "#file txt in input\n",
    "F = open('Testo_inglese.txt', 'r')\n",
    "Fh = F.readlines()\n",
    "\n",
    "Lista = []\n",
    "for n_line in range(len(Fh)):\n",
    "    punctuation='!?,.:;\"\\')(_-{}[]1234567890*+/'\n",
    "    line = Fh[n_line].translate(None, punctuation).replace('\\xc3\\xb9','u').replace('\\xc3\\xa8', 'e').replace('\\u00E9', 'e').replace('\\xc3\\xb2','o').replace('\\u00F4', 'o').replace('\\xc3\\xa0', 'a').replace('\\n',' ').replace('\\n\\n',' ').replace('\\xc3\\xac', 'i').replace('\\xc3\\xa9', 'e').lower()\n",
    "    for word in line:\n",
    "        for letter in word:\n",
    "            Lista.append(letter)"
   ]
  },
  {
   "cell_type": "code",
   "execution_count": null,
   "metadata": {
    "collapsed": true
   },
   "outputs": [],
   "source": [
    "#creazione rete\n",
    "g = nx.Graph()\n",
    "alfabeto = ['a','b','c','d','e','f','g','h','i','j','k','l','m','n','o','p','q','r','s','t','u','v','w','x','y','z']\n",
    "g.add_nodes_from(alfabeto)"
   ]
  },
  {
   "cell_type": "code",
   "execution_count": null,
   "metadata": {},
   "outputs": [],
   "source": [
    "#creazione link\n",
    "for i in range(len(Lista)-1):\n",
    "    if g.edges().count((Lista[i],Lista[i+1])) == 0:\n",
    "        g.add_edge(Lista[i],Lista[i+1], weight=1)\n",
    "    else:\n",
    "        g[Lista[i]][Lista[i+1]]['weight'] += 1 \n",
    "for j in alfabeto:\n",
    "    if g.edges().count(('', j)) != 0:\n",
    "        g.remove_edge('', j)\n",
    "if g.nodes().count(' ') != 0:\n",
    "    g.remove_node(' ')\n",
    "    "
   ]
  },
  {
   "cell_type": "code",
   "execution_count": null,
   "metadata": {},
   "outputs": [],
   "source": [
    "#visualizzazione grafica della rete inglese\n",
    "pos = nx.spring_layout(g, dim=2, k=None, pos=None, fixed=None, iterations=50, weight='weight', scale=1.0)\n",
    "plt.figure(figsize=(8,6))\n",
    "nx.draw_networkx(g,pos)"
   ]
  },
  {
   "cell_type": "code",
   "execution_count": null,
   "metadata": {},
   "outputs": [],
   "source": [
    "#%%time\n",
    "import numpy as np\n",
    "from scipy import misc\n",
    "from PIL import Image\n",
    "from sklearn.decomposition import PCA\n",
    "import matplotlib.pyplot as plt\n",
    "\n",
    "X_en = np.zeros((N,786432))\n",
    "y_en = []\n",
    "for i in range(N):\n",
    "    pos = nx.spring_layout(G, dim=2, k=None, pos=None, fixed=None, iterations=randint(100), weight='weight')\n",
    "    sns.set_style(\"whitegrid\", {'axes.grid' : False, 'axes.edgecolor': '0',  'xtick.color': '0','ytick.color': '0'})\n",
    "    plt.figure(figsize=(6,4))\n",
    "    nx.draw_networkx(g,pos)\n",
    "    savefig('Image_en.png')\n",
    "    img = misc.imread('Image_en.png');\n",
    "    img = misc.face(gray=True)\n",
    "    [width1,height1]=[img.shape[0],img.shape[1]]\n",
    "    img_2 = img.reshape(width1*height1);\n",
    "    X_en[i] = img_2\n",
    "    y_en.append(1)\n",
    "X_en.shape"
   ]
  },
  {
   "cell_type": "code",
   "execution_count": null,
   "metadata": {},
   "outputs": [],
   "source": [
    "X = np.concatenate((X_it, X_en), axis=0)\n",
    "y = np.concatenate((y_it, y_en), axis=0)\n",
    "\n",
    "from sklearn.utils import shuffle\n",
    "X_all, y_all = shuffle(X, y, random_state=42)"
   ]
  },
  {
   "cell_type": "code",
   "execution_count": null,
   "metadata": {},
   "outputs": [],
   "source": [
    "from sklearn.decomposition import PCA   \n",
    "pca = PCA(800)\n",
    "pca.fit(X_all)\n",
    "U = pca.transform(X_all)\n",
    "svm.fit(X_all,y_all)\n"
   ]
  },
  {
   "cell_type": "code",
   "execution_count": null,
   "metadata": {},
   "outputs": [],
   "source": [
    "img = misc.imread('Image_it.png');\n",
    "img = misc.face(gray=True)\n",
    "[width1,height1]=[img.shape[0],img.shape[1]]\n",
    "img_2 = img.reshape(width1*height1);\n",
    "X_test = img_2\n",
    "\n",
    "y_test = svm.predict(X_test)\n",
    "y_test"
   ]
  },
  {
   "cell_type": "code",
   "execution_count": null,
   "metadata": {},
   "outputs": [],
   "source": [
    "from sklearn.svm import SVC\n",
    "from sklearn.model_selection import cross_val_score\n",
    "\n",
    "svm = SVC(kernel='rbf')\n",
    "gammas = np.logspace(-30, -15, 10)\n",
    "scores = []\n",
    "for gamma in gammas:\n",
    "    svm.gamma = gamma #1500<-pti dataset, K<-pti validationset K=1500/cv, cv= <-num di suddivisioni di 1500 in K pti\n",
    "    cv_scores = cross_val_score(svm, X_all, Y_all, cv=2, n_jobs=4)#cv=3 è il numero di suddivisioni del dataset \n",
    "    #crea un vettore con tutte le accuratezze di ciascuna suddivisione possibile \n",
    "    #(i.e divido il dataset in 3 parti e una la considero validationset e calcolo lo score, poi lo calcolo considerando la parte 2 come validationset..)\n",
    "    scores.append(np.mean(cv_scores))\n",
    "    \n",
    "print 'Best gamma:', gammas[np.argmax(scores)]\n",
    "print 'Best score:', scores[np.argmax(scores)]\n",
    "\n",
    "semilogx(gammas, scores)\n",
    "plt.xlabel('gamma')\n",
    "plt.ylabel('Score (accuracy)')"
   ]
  },
  {
   "cell_type": "code",
   "execution_count": null,
   "metadata": {},
   "outputs": [],
   "source": [
    "from sklearn.neural_network import MLPClassifier\n",
    "\n",
    "model =  MLPClassifier((100,50,10),activation='relu',solver='adam', max_iter=300000000,\n",
    "                                                  learning_rate='adaptive', random_state=0)\n",
    "\n",
    "model.fit(X_all, y_all)\n"
   ]
  },
  {
   "cell_type": "code",
   "execution_count": null,
   "metadata": {},
   "outputs": [],
   "source": [
    "img = misc.imread('Image_it.png');\n",
    "img = misc.face(gray=True)\n",
    "[width1,height1]=[img.shape[0],img.shape[1]]\n",
    "img_2 = img.reshape(width1*height1);\n",
    "X_test = img_2\n",
    "\n",
    "y_test = model.predict(X_test)\n",
    "y_test"
   ]
  }
 ],
 "metadata": {
  "anaconda-cloud": {},
  "kernelspec": {
   "display_name": "Python 2",
   "language": "python",
   "name": "python2"
  },
  "language_info": {
   "codemirror_mode": {
    "name": "ipython",
    "version": 3
   },
   "file_extension": ".py",
   "mimetype": "text/x-python",
   "name": "python",
   "nbconvert_exporter": "python",
   "pygments_lexer": "ipython3",
   "version": "3.6.0"
  }
 },
 "nbformat": 4,
 "nbformat_minor": 1
}
