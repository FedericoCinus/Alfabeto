{
 "cells": [
  {
   "cell_type": "markdown",
   "metadata": {},
   "source": [
    "<center>\n",
    "<hr>\n",
    "<h1>Complessità nei sistemi sociali</h1>\n",
    "<h2>Laurea Magistrale in Fisica Dei Sistemi Complessi</h2>\n",
    "<h2>A.A. 2016/17</h2>\n",
    "<h3>Dr. Daniela Paolotti, Dr. Michele Tizzoni</h3>\n",
    "<hr>\n",
    "</center>"
   ]
  },
  {
   "cell_type": "markdown",
   "metadata": {},
   "source": [
    "<center> \n",
    "## Project name: Alfabeto \n",
    "\n",
    "<h4>Student: Federico Cinus</h4>\n"
   ]
  },
  {
   "cell_type": "markdown",
   "metadata": {},
   "source": []
  },
  {
   "cell_type": "markdown",
   "metadata": {},
   "source": []
  },
  {
   "cell_type": "markdown",
   "metadata": {},
   "source": []
  },
  {
   "cell_type": "markdown",
   "metadata": {},
   "source": [
    "<center> \n",
    "# Introduzione "
   ]
  },
  {
   "cell_type": "markdown",
   "metadata": {},
   "source": []
  },
  {
   "cell_type": "markdown",
   "metadata": {},
   "source": []
  },
  {
   "cell_type": "markdown",
   "metadata": {},
   "source": []
  },
  {
   "cell_type": "markdown",
   "metadata": {},
   "source": [
    "<center>\n",
    "Alfabeto è un programma che ha lo scopo di classificare un testo in base alla lingua, sfruttando la teoria delle reti"
   ]
  },
  {
   "cell_type": "markdown",
   "metadata": {},
   "source": []
  },
  {
   "cell_type": "markdown",
   "metadata": {},
   "source": []
  },
  {
   "cell_type": "markdown",
   "metadata": {},
   "source": []
  },
  {
   "cell_type": "markdown",
   "metadata": {},
   "source": [
    "<center>\n",
    "L'idea è quella di mettere in evidenza i suoni più comuni in una lingua"
   ]
  },
  {
   "cell_type": "markdown",
   "metadata": {},
   "source": []
  },
  {
   "cell_type": "markdown",
   "metadata": {},
   "source": []
  },
  {
   "cell_type": "markdown",
   "metadata": {},
   "source": []
  },
  {
   "cell_type": "markdown",
   "metadata": {},
   "source": [
    "<center>\n",
    "Al fine di semplificare il problema si considerano:\n",
    "<center>\n",
    "1) due lingue (italiano e inglese)\n",
    "<center>\n",
    "2) approssimazione in cui i \"suoni\" sono coppie di lettere in una stessa parola\n"
   ]
  },
  {
   "cell_type": "markdown",
   "metadata": {},
   "source": []
  },
  {
   "cell_type": "markdown",
   "metadata": {},
   "source": []
  },
  {
   "cell_type": "markdown",
   "metadata": {},
   "source": []
  },
  {
   "cell_type": "markdown",
   "metadata": {},
   "source": [
    "<center>\n",
    "Alfabeto basa la sua analisi su una rete pesata"
   ]
  },
  {
   "cell_type": "markdown",
   "metadata": {},
   "source": []
  },
  {
   "cell_type": "markdown",
   "metadata": {},
   "source": []
  },
  {
   "cell_type": "markdown",
   "metadata": {},
   "source": []
  },
  {
   "cell_type": "markdown",
   "metadata": {},
   "source": [
    "In particolare prende un file txt in input e crea una rete i cui nodi sono le lettere dell'alfabeto; \n",
    "\n",
    "i link vengono creati solo tra lettere vicine nella stessa parola; e.g. nella parola \"alfabeto\" i link saranno tra (a,l), (l,f), (f,a) etc. \n",
    "\n",
    "Se due lettere risultano vicine più di una volta all'interno del file txt, il peso del loro link corrispondente verrà aumentato di una unità."
   ]
  },
  {
   "cell_type": "markdown",
   "metadata": {},
   "source": []
  },
  {
   "cell_type": "markdown",
   "metadata": {},
   "source": []
  },
  {
   "cell_type": "markdown",
   "metadata": {},
   "source": []
  },
  {
   "cell_type": "markdown",
   "metadata": {},
   "source": [
    "<center>\n",
    "Le reti corrispondenti a testi in lingue differenti determinano reti con layout e caratteristiche distinte"
   ]
  },
  {
   "cell_type": "markdown",
   "metadata": {},
   "source": []
  },
  {
   "cell_type": "markdown",
   "metadata": {},
   "source": []
  },
  {
   "cell_type": "markdown",
   "metadata": {},
   "source": []
  },
  {
   "cell_type": "markdown",
   "metadata": {},
   "source": [
    "<center> \n",
    "# Esempi di layout "
   ]
  },
  {
   "cell_type": "code",
   "execution_count": 2,
   "metadata": {
    "collapsed": false
   },
   "outputs": [
    {
     "name": "stdout",
     "output_type": "stream",
     "text": [
      "Populating the interactive namespace from numpy and matplotlib\n"
     ]
    }
   ],
   "source": [
    "#librerie da importare\n",
    "%pylab inline \n",
    "import string\n",
    "import networkx as nx\n",
    "import seaborn as sns\n",
    "from sklearn.utils import shuffle\n",
    "import powerlaw as pwl"
   ]
  },
  {
   "cell_type": "markdown",
   "metadata": {},
   "source": [
    "<center>\n",
    "# Inglese"
   ]
  },
  {
   "cell_type": "code",
   "execution_count": 48,
   "metadata": {
    "collapsed": false
   },
   "outputs": [],
   "source": [
    "#file txt in input\n",
    "f = open('Testo_inglese.txt', 'r')\n",
    "fh = f.readlines()\n",
    "\n",
    "lista = []\n",
    "for n_line in range(len(fh)):\n",
    "    punctuation='!?,.:;\"\\')(_-{}[]1234567890*+/'\n",
    "    line = fh[n_line].translate(None, punctuation).replace('\\xc3\\xb9','u').replace('\\xc3\\xa8', 'e').replace('\\u00E9', 'e').replace('\\xc3\\xb2','o').replace('\\u00F4', 'o').replace('\\xc3\\xa0', 'a').replace('\\n',' ').replace('\\n\\n',' ').replace('\\xc3\\xac', 'i').replace('\\xc3\\xa9', 'e').lower()\n",
    "    for word in line:\n",
    "        for letter in word:\n",
    "            lista.append(letter)\n",
    "lista = lista[:-934]"
   ]
  },
  {
   "cell_type": "code",
   "execution_count": 49,
   "metadata": {
    "collapsed": true
   },
   "outputs": [],
   "source": [
    "#creazione rete\n",
    "G_en = nx.Graph()\n",
    "alfabeto = ['a','b','c','d','e','f','g','h','i','j','k','l','m','n','o','p','q','r','s','t','u','v','w','x','y','z']\n",
    "G_en.add_nodes_from(alfabeto)"
   ]
  },
  {
   "cell_type": "code",
   "execution_count": 50,
   "metadata": {
    "collapsed": true
   },
   "outputs": [],
   "source": [
    "#creazione link\n",
    "for i in range(len(lista)-1):\n",
    "    if G_en.edges().count((lista[i],lista[i+1])) == 0:\n",
    "        G_en.add_edge(lista[i],lista[i+1], weight=1)\n",
    "    else:\n",
    "        G_en[lista[i]][lista[i+1]]['weight'] += 1 \n",
    "for j in alfabeto:\n",
    "    if G_en.edges().count(('', j)) != 0:\n",
    "        G_en.remove_edge('', j)\n",
    "if G_en.nodes().count(' ') != 0:\n",
    "    G_en.remove_node(' ')"
   ]
  },
  {
   "cell_type": "code",
   "execution_count": 51,
   "metadata": {
    "collapsed": false
   },
   "outputs": [
    {
     "data": {
      "image/png": "[encoded data removed]",
      "text/plain": [
       "<matplotlib.figure.Figure at 0x11672dcd0>"
      ]
     },
     "metadata": {},
     "output_type": "display_data"
    }
   ],
   "source": [
    "#visualizzazione grafica della rete tramite spring_layout\n",
    "pos = nx.spring_layout(G_en, dim=2, k=None, pos=None, fixed=None, iterations=50, weight='weight', scale=1.0)\n",
    "plt.figure(figsize=(12,10))\n",
    "nx.draw_networkx(G_en,pos)"
   ]
  },
  {
   "cell_type": "markdown",
   "metadata": {},
   "source": []
  },
  {
   "cell_type": "markdown",
   "metadata": {},
   "source": []
  },
  {
   "cell_type": "markdown",
   "metadata": {},
   "source": []
  },
  {
   "cell_type": "markdown",
   "metadata": {},
   "source": [
    "<center>\n",
    "# Italiano"
   ]
  },
  {
   "cell_type": "code",
   "execution_count": 53,
   "metadata": {
    "collapsed": false
   },
   "outputs": [],
   "source": [
    "#file txt in input \n",
    "f = open('Testo_italiano.txt', 'r')\n",
    "fh = f.readlines()\n",
    "\n",
    "lista = []\n",
    "for n_line in range(len(fh)):\n",
    "    punctuation='!?,.:;\"\\')(_-{}[]1234567890*+/'\n",
    "    line = fh[n_line].translate(None, punctuation).replace('\\xc3\\xb9','u').replace('\\xc3\\xa8', 'e').replace('\\u00E9', 'e').replace('\\xc3\\xb2','o').replace('\\u00F4', 'o').replace('\\xc3\\xa0', 'a').replace('\\n',' ').replace('\\n\\n',' ').replace('\\xc3\\xac', 'i').replace('\\xc3\\xa9', 'e').lower()\n",
    "    for word in line:\n",
    "        for letter in word:\n",
    "            lista.append(letter)"
   ]
  },
  {
   "cell_type": "code",
   "execution_count": 54,
   "metadata": {
    "collapsed": true
   },
   "outputs": [],
   "source": [
    "#creazione rete\n",
    "G_it = nx.Graph()\n",
    "alfabeto = ['a','b','c','d','e','f','g','h','i','j','k','l','m','n','o','p','q','r','s','t','u','v','w','x','y','z']\n",
    "G_it.add_nodes_from(alfabeto)"
   ]
  },
  {
   "cell_type": "code",
   "execution_count": 55,
   "metadata": {
    "collapsed": true
   },
   "outputs": [],
   "source": [
    "#creazione link\n",
    "for i in range(len(lista)-1):\n",
    "    if G_it.edges().count((lista[i],lista[i+1])) == 0:\n",
    "        G_it.add_edge(lista[i],lista[i+1], weight=1)\n",
    "    else:\n",
    "        G_it[lista[i]][lista[i+1]]['weight'] += 1 \n",
    "for j in alfabeto:\n",
    "    if G_it.edges().count(('', j)) != 0:\n",
    "        G_it.remove_edge('', j)\n",
    "if G_it.nodes().count(' ') != 0:\n",
    "    G_it.remove_node(' ')"
   ]
  },
  {
   "cell_type": "code",
   "execution_count": 56,
   "metadata": {
    "collapsed": false
   },
   "outputs": [
    {
     "data": {
      "image/png": "[encoded data removed]",
      "text/plain": [
       "<matplotlib.figure.Figure at 0x1177a37d0>"
      ]
     },
     "metadata": {},
     "output_type": "display_data"
    }
   ],
   "source": [
    "#visualizzazione grafica della rete tramite spring_layout\n",
    "pos = nx.spring_layout(G, dim=2, k=None, pos=None, fixed=None, iterations=50, weight='weight', scale=1.0)\n",
    "plt.figure(figsize=(12,10))\n",
    "nx.draw_networkx(G,pos)"
   ]
  },
  {
   "cell_type": "markdown",
   "metadata": {},
   "source": []
  },
  {
   "cell_type": "markdown",
   "metadata": {},
   "source": []
  },
  {
   "cell_type": "markdown",
   "metadata": {
    "collapsed": false
   },
   "source": []
  },
  {
   "cell_type": "markdown",
   "metadata": {},
   "source": [
    "<center> \n",
    "# Elementi di teoria delle reti"
   ]
  },
  {
   "cell_type": "markdown",
   "metadata": {},
   "source": []
  },
  {
   "cell_type": "markdown",
   "metadata": {},
   "source": []
  },
  {
   "cell_type": "markdown",
   "metadata": {},
   "source": []
  },
  {
   "cell_type": "markdown",
   "metadata": {},
   "source": [
    "<center>\n",
    "Power law fit per la degree distribution\n",
    "\n",
    "<center>\n",
    "$\\rho(k) = C k^{-\\alpha}$\n",
    "\n",
    "<center>\n",
    "dove: $C=1/Z(\\alpha)$ oppure $(\\alpha -1)k_{min}^{\\alpha -1}$"
   ]
  },
  {
   "cell_type": "code",
   "execution_count": null,
   "metadata": {
    "collapsed": true
   },
   "outputs": [],
   "source": []
  },
  {
   "cell_type": "code",
   "execution_count": null,
   "metadata": {
    "collapsed": true
   },
   "outputs": [],
   "source": []
  },
  {
   "cell_type": "code",
   "execution_count": null,
   "metadata": {
    "collapsed": true
   },
   "outputs": [],
   "source": []
  },
  {
   "cell_type": "markdown",
   "metadata": {},
   "source": [
    "<center>\n",
    "$\\alpha <2$ -> caso anomalo\n",
    "\n",
    "<center>\n",
    "$2< \\alpha <3$ -> scale free\n",
    "\n",
    "<center>\n",
    "$\\alpha >3$ -> si avvicina alle reti random"
   ]
  },
  {
   "cell_type": "code",
   "execution_count": null,
   "metadata": {
    "collapsed": true
   },
   "outputs": [],
   "source": []
  },
  {
   "cell_type": "code",
   "execution_count": null,
   "metadata": {
    "collapsed": true
   },
   "outputs": [],
   "source": []
  },
  {
   "cell_type": "code",
   "execution_count": null,
   "metadata": {
    "collapsed": true
   },
   "outputs": [],
   "source": []
  },
  {
   "cell_type": "markdown",
   "metadata": {},
   "source": [
    "<center> \n",
    "Analizziamo la degree distribution per la rete relativa al testo italiano\n",
    "<center>\n",
    "Innanzitutto guardiamo il dizionario dei degree:"
   ]
  },
  {
   "cell_type": "code",
   "execution_count": 57,
   "metadata": {
    "collapsed": false
   },
   "outputs": [
    {
     "data": {
      "text/plain": [
       "{'a': 17,\n",
       " 'b': 11,\n",
       " 'c': 13,\n",
       " 'd': 9,\n",
       " 'e': 17,\n",
       " 'f': 9,\n",
       " 'g': 11,\n",
       " 'h': 7,\n",
       " 'i': 21,\n",
       " 'j': 0,\n",
       " 'k': 0,\n",
       " 'l': 16,\n",
       " 'm': 11,\n",
       " 'n': 16,\n",
       " 'o': 17,\n",
       " 'p': 10,\n",
       " 'q': 2,\n",
       " 'r': 20,\n",
       " 's': 16,\n",
       " 't': 11,\n",
       " 'u': 18,\n",
       " 'v': 11,\n",
       " 'w': 0,\n",
       " 'x': 0,\n",
       " 'y': 0,\n",
       " 'z': 9}"
      ]
     },
     "execution_count": 57,
     "metadata": {},
     "output_type": "execute_result"
    }
   ],
   "source": [
    "G_it.degree()"
   ]
  },
  {
   "cell_type": "markdown",
   "metadata": {},
   "source": [
    "<center>\n",
    "Notiamo che alcuni valori di degree sono assenti nella distribuzione\n",
    "\n",
    "<center>\n",
    "Proviamo a plottare l'istogramma della degree distribution"
   ]
  },
  {
   "cell_type": "code",
   "execution_count": 17,
   "metadata": {
    "collapsed": false
   },
   "outputs": [
    {
     "data": {
      "text/plain": [
       "<matplotlib.text.Text at 0x11673aa90>"
      ]
     },
     "execution_count": 17,
     "metadata": {},
     "output_type": "execute_result"
    },
    {
     "data": {
      "image/png": "[encoded data removed]",
      "text/plain": [
       "<matplotlib.figure.Figure at 0x11663a750>"
      ]
     },
     "metadata": {},
     "output_type": "display_data"
    }
   ],
   "source": [
    "degree = np.array(G.degree().values())\n",
    "\n",
    "plt.figure(figsize=(12,9))\n",
    "plt.hist(degree, bins=100, normed=True, log=False, histtype='stepfilled')\n",
    "\n",
    "plt.xticks(fontsize=17)\n",
    "plt.yticks(fontsize=17)\n",
    "plt.xlabel('Degree', fontsize=17)\n",
    "plt.ylabel('$P(k)$', fontsize=17)"
   ]
  },
  {
   "cell_type": "markdown",
   "metadata": {},
   "source": [
    "<center>\n",
    "La distribuzione è una funzione definita a tratti il cui fit non ha nessuna utilità nella descrizione e classificazione di reti con così pochi nodi"
   ]
  },
  {
   "cell_type": "code",
   "execution_count": null,
   "metadata": {
    "collapsed": true
   },
   "outputs": [],
   "source": []
  },
  {
   "cell_type": "code",
   "execution_count": null,
   "metadata": {
    "collapsed": true
   },
   "outputs": [],
   "source": []
  },
  {
   "cell_type": "code",
   "execution_count": null,
   "metadata": {
    "collapsed": true
   },
   "outputs": [],
   "source": []
  },
  {
   "cell_type": "markdown",
   "metadata": {},
   "source": [
    "<center>\n",
    "Average clustering coefficient\n",
    "\n",
    "<center>\n",
    "$\\bar{C} = \\frac{1}{n}\\sum_{i=1}^{n} C_i.$"
   ]
  },
  {
   "cell_type": "code",
   "execution_count": null,
   "metadata": {
    "collapsed": true
   },
   "outputs": [],
   "source": []
  },
  {
   "cell_type": "code",
   "execution_count": null,
   "metadata": {
    "collapsed": true
   },
   "outputs": [],
   "source": []
  },
  {
   "cell_type": "code",
   "execution_count": null,
   "metadata": {
    "collapsed": true
   },
   "outputs": [],
   "source": []
  },
  {
   "cell_type": "markdown",
   "metadata": {},
   "source": [
    "<center>\n",
    "Dove la densità locale di links attorno al nodo i-esimo è:\n",
    "\n",
    "<center>\n",
    "$C_{i}= \\dfrac{2L_i}{k_i (k_i -1)}$"
   ]
  },
  {
   "cell_type": "code",
   "execution_count": null,
   "metadata": {
    "collapsed": true
   },
   "outputs": [],
   "source": []
  },
  {
   "cell_type": "code",
   "execution_count": null,
   "metadata": {
    "collapsed": true
   },
   "outputs": [],
   "source": []
  },
  {
   "cell_type": "code",
   "execution_count": null,
   "metadata": {
    "collapsed": true
   },
   "outputs": [],
   "source": []
  },
  {
   "cell_type": "markdown",
   "metadata": {},
   "source": [
    "<center> \n",
    "In questo caso ci aspettiamo che la densità di link attorno ai nodi corrispondenti alle lettere J, K, X, Y sia ridotta nel caso dei testi italiani rispetto a quelli inglesi, mentre è egualmente importante intorno alle vocali"
   ]
  },
  {
   "cell_type": "code",
   "execution_count": 58,
   "metadata": {
    "collapsed": false
   },
   "outputs": [
    {
     "name": "stdout",
     "output_type": "stream",
     "text": [
      "L'average clustering coefficient per la rete del testo inglese è:  0.754754655539\n",
      "L'average clustering coefficient per la rete del testo italiano è:  0.597310986624\n"
     ]
    }
   ],
   "source": [
    "print \"L'average clustering coefficient per la rete del testo inglese è: \", nx.average_clustering(G_en)\n",
    "print \"L'average clustering coefficient per la rete del testo italiano è: \", nx.average_clustering(G_it)"
   ]
  },
  {
   "cell_type": "code",
   "execution_count": null,
   "metadata": {
    "collapsed": true
   },
   "outputs": [],
   "source": []
  },
  {
   "cell_type": "code",
   "execution_count": null,
   "metadata": {
    "collapsed": true
   },
   "outputs": [],
   "source": []
  },
  {
   "cell_type": "code",
   "execution_count": null,
   "metadata": {
    "collapsed": true
   },
   "outputs": [],
   "source": []
  },
  {
   "cell_type": "markdown",
   "metadata": {},
   "source": [
    "<center>\n",
    "L'average clustering coefficient è un buon indicatore per la classificazione"
   ]
  },
  {
   "cell_type": "code",
   "execution_count": null,
   "metadata": {
    "collapsed": true
   },
   "outputs": [],
   "source": []
  },
  {
   "cell_type": "code",
   "execution_count": null,
   "metadata": {
    "collapsed": true
   },
   "outputs": [],
   "source": []
  },
  {
   "cell_type": "code",
   "execution_count": null,
   "metadata": {
    "collapsed": true
   },
   "outputs": [],
   "source": []
  },
  {
   "cell_type": "markdown",
   "metadata": {},
   "source": [
    "<center>\n",
    "Numero di triangoli\n",
    "\n",
    "<center>\n",
    "$C_{tr} = $ num triple chiuse "
   ]
  },
  {
   "cell_type": "markdown",
   "metadata": {
    "collapsed": true
   },
   "source": [
    "<center>\n",
    "In questo caso ci aspettiamo che il termine sia predominante nella rete corrispondente alla lingua in cui i \"suoni\" a tre lettere sono più comuni"
   ]
  },
  {
   "cell_type": "code",
   "execution_count": null,
   "metadata": {
    "collapsed": true
   },
   "outputs": [],
   "source": []
  },
  {
   "cell_type": "code",
   "execution_count": null,
   "metadata": {
    "collapsed": true
   },
   "outputs": [],
   "source": []
  },
  {
   "cell_type": "code",
   "execution_count": null,
   "metadata": {
    "collapsed": true
   },
   "outputs": [],
   "source": []
  },
  {
   "cell_type": "code",
   "execution_count": 61,
   "metadata": {
    "collapsed": false
   },
   "outputs": [
    {
     "name": "stdout",
     "output_type": "stream",
     "text": [
      "Il numero di traingoli per la rete del testo inglese è:  570.0\n",
      "Il numero di triangoli per la rete del testo italiano è:  322.0\n"
     ]
    }
   ],
   "source": [
    "print \"Il numero di traingoli per la rete del testo inglese è: \", float(sum(nx.triangles(G_en).values()))/3\n",
    "print \"Il numero di triangoli per la rete del testo italiano è: \", float(sum(nx.triangles(G_it).values()))/3"
   ]
  },
  {
   "cell_type": "markdown",
   "metadata": {},
   "source": [
    "<center>\n",
    "NB: il contributo maggiore sarà dato dalle vocali"
   ]
  },
  {
   "cell_type": "code",
   "execution_count": null,
   "metadata": {
    "collapsed": true
   },
   "outputs": [],
   "source": []
  },
  {
   "cell_type": "code",
   "execution_count": null,
   "metadata": {
    "collapsed": true
   },
   "outputs": [],
   "source": []
  },
  {
   "cell_type": "code",
   "execution_count": null,
   "metadata": {
    "collapsed": true
   },
   "outputs": [],
   "source": []
  },
  {
   "cell_type": "markdown",
   "metadata": {},
   "source": [
    "<center> \n",
    "Numero di componenti connesse"
   ]
  },
  {
   "cell_type": "markdown",
   "metadata": {},
   "source": [
    "<center>\n",
    "Analogamente al caso dell' average clustering coefficient ci aspettiamo un'unica componente connessa nella rete relativa al testo inglese e più componenti nel caso di quello italiano, a causa dell'uso meno frequente delle lettere J, K, X, Y"
   ]
  },
  {
   "cell_type": "code",
   "execution_count": null,
   "metadata": {
    "collapsed": true
   },
   "outputs": [],
   "source": []
  },
  {
   "cell_type": "code",
   "execution_count": null,
   "metadata": {
    "collapsed": true
   },
   "outputs": [],
   "source": []
  },
  {
   "cell_type": "code",
   "execution_count": null,
   "metadata": {
    "collapsed": true
   },
   "outputs": [],
   "source": []
  },
  {
   "cell_type": "markdown",
   "metadata": {},
   "source": [
    "<center>\n",
    "Assortatività"
   ]
  },
  {
   "cell_type": "code",
   "execution_count": null,
   "metadata": {
    "collapsed": true
   },
   "outputs": [],
   "source": []
  },
  {
   "cell_type": "code",
   "execution_count": null,
   "metadata": {
    "collapsed": true
   },
   "outputs": [],
   "source": []
  },
  {
   "cell_type": "code",
   "execution_count": null,
   "metadata": {
    "collapsed": true
   },
   "outputs": [],
   "source": []
  },
  {
   "cell_type": "code",
   "execution_count": 63,
   "metadata": {
    "collapsed": false
   },
   "outputs": [
    {
     "name": "stdout",
     "output_type": "stream",
     "text": [
      "L'assortativity coefficient per la rete del testo inglese è:  -0.343393967304\n",
      "L'assortativity coefficient per la rete del testo italiano è:  -0.305080302844\n"
     ]
    }
   ],
   "source": [
    "print \"L'assortativity coefficient per la rete del testo inglese è: \",nx.degree_assortativity_coefficient(G_en)\n",
    "print \"L'assortativity coefficient per la rete del testo italiano è: \",nx.degree_assortativity_coefficient(G_it)"
   ]
  },
  {
   "cell_type": "code",
   "execution_count": null,
   "metadata": {
    "collapsed": true
   },
   "outputs": [],
   "source": []
  },
  {
   "cell_type": "code",
   "execution_count": null,
   "metadata": {
    "collapsed": true
   },
   "outputs": [],
   "source": []
  },
  {
   "cell_type": "markdown",
   "metadata": {},
   "source": [
    "<center> \n",
    "# Training "
   ]
  },
  {
   "cell_type": "code",
   "execution_count": null,
   "metadata": {
    "collapsed": false
   },
   "outputs": [],
   "source": [
    "%%time\n",
    "#file txt in input\n",
    "alfabeto = ['a','b','c','d','e','f','g','h','i','j','k','l','m','n','o','p','q','r','s','t','u','v','w','x','y','z']\n",
    "f_en = open('Dizionario_Inglese.txt', 'r')\n",
    "fh_en = f_en.readlines()\n",
    "N = 100\n",
    "X_en = np.zeros((N,5), dtype=object)\n",
    "Y_en = []\n",
    "for sample in range(N):\n",
    "    fh_2 = shuffle(fh_en, random_state=randint(42))\n",
    "    list_sample = []\n",
    "    for n_line in range(randint(len(fh_2)/10, len(fh_2)/3)):\n",
    "        punctuation='!?,.:;\"\\')(_-{}[]1234567890*+/'\n",
    "        line = fh_2[n_line].translate(None, punctuation).replace('\\xc3\\xb9','u').replace('\\xc3\\xa8', 'e').replace('\\u00E9', 'e').replace('\\xc3\\xb2','o').replace('\\u00F4', 'o').replace('\\xc3\\xa0', 'a').replace('\\n',' ').replace('\\n\\n',' ').replace('\\xc3\\xac', 'i').replace('\\xc3\\xa9', 'e').lower()\n",
    "        for word in line:\n",
    "            for letter in word:\n",
    "                list_sample.append(letter)\n",
    "    #creazione nodi\n",
    "    G_sample = nx.Graph()\n",
    "    G_sample.add_nodes_from(alfabeto)\n",
    "    #creazione link\n",
    "    for i in range(len(list_sample)-1):\n",
    "        if G_sample.edges().count((list_sample[i],list_sample[i+1])) == 0:\n",
    "            G_sample.add_edge(list_sample[i],list_sample[i+1], weight=1)\n",
    "        else:\n",
    "            G_sample[list_sample[i]][list_sample[i+1]]['weight'] += 1 \n",
    "    for j in alfabeto:\n",
    "        if G_sample.edges().count(('', j)) != 0:\n",
    "            G.remove_edge('', j)\n",
    "    if G_sample.nodes().count(' ') != 0:\n",
    "        G_sample.remove_node(' ')\n",
    "    \n",
    "    #input vector\n",
    "    degree = np.array(G_sample.degree().values())\n",
    "    fit_function = pwl.Fit(degree)\n",
    "    #x_1 = fit_function.power_law.alpha\n",
    "    x_2 = nx.average_clustering(G_sample)\n",
    "    x_3 = float(sum(nx.triangles(G_sample).values()))/3\n",
    "    x_4 = nx.number_connected_components(G_sample)\n",
    "    x_5 = nx.degree_assortativity_coefficient(G_sample)\n",
    "    X_en[sample] = [x_2, x_3, x_4, x_5]\n",
    "    Y_en.append(1) \n",
    "print X_en"
   ]
  },
  {
   "cell_type": "code",
   "execution_count": null,
   "metadata": {
    "collapsed": false
   },
   "outputs": [],
   "source": [
    "%%time\n",
    "#file txt in input\n",
    "alfabeto = ['a','b','c','d','e','f','g','h','i','j','k','l','m','n','o','p','q','r','s','t','u','v','w','x','y','z']\n",
    "f_it = open('Dizionario_Italiano.txt', 'r')\n",
    "fh_it = f_it.readlines()\n",
    "N = 100\n",
    "X_it = np.zeros((N,5), dtype=object)\n",
    "Y_it = []\n",
    "\n",
    "for sample in range(N):\n",
    "    fh_2 = shuffle(fh_it, random_state=randint(42))\n",
    "    list_sample = []\n",
    "    for n_line in range(randint(len(fh_2)/10, len(fh_2)/5)):\n",
    "        punctuation='!?,.:;\"\\')(_-{}[]1234567890*+/'\n",
    "        line = fh_2[n_line].translate(None, punctuation).replace('\\xc3\\xb9','u').replace('\\xc3\\xa8', 'e').replace('\\u00E9', 'e').replace('\\xc3\\xb2','o').replace('\\u00F4', 'o').replace('\\xc3\\xa0', 'a').replace('\\n',' ').replace('\\n\\n',' ').replace('\\xc3\\xac', 'i').replace('\\xc3\\xa9', 'e').lower()\n",
    "        for word in line:\n",
    "            for letter in word:\n",
    "                list_sample.append(letter)       \n",
    "    #creazione nodi\n",
    "    G_sample = nx.Graph()\n",
    "    G_sample.add_nodes_from(alfabeto)\n",
    "    #creazione link\n",
    "    for i in range(len(list_sample)-1):\n",
    "        if G_sample.edges().count((list_sample[i],list_sample[i+1])) == 0:\n",
    "            G_sample.add_edge(list_sample[i],list_sample[i+1], weight=1)\n",
    "        else:\n",
    "            G_sample[list_sample[i]][list_sample[i+1]]['weight'] += 1 \n",
    "    for j in alfabeto:\n",
    "        if G_sample.edges().count(('', j)) != 0:\n",
    "            G.remove_edge('', j)\n",
    "    if G_sample.nodes().count(' ') != 0:\n",
    "        G_sample.remove_node(' ')\n",
    "    \n",
    "    #input vector\n",
    "    degree = np.array(G_sample.degree().values())\n",
    "    fit_function = pwl.Fit(degree)\n",
    "    #x_1 = fit_function.power_law.alpha\n",
    "    x_2 = nx.average_clustering(G_sample)\n",
    "    x_3 = float(sum(nx.triangles(G_sample).values()))/3\n",
    "    x_4 = nx.number_connected_components(G_sample)\n",
    "    x_5 = nx.degree_assortativity_coefficient(G_sample)\n",
    "    X_it[sample] = [x_2, x_3, x_4, x_5]\n",
    "    Y_it.append(0) \n",
    "print X_it"
   ]
  },
  {
   "cell_type": "code",
   "execution_count": null,
   "metadata": {
    "collapsed": false
   },
   "outputs": [],
   "source": [
    "#Dataset\n",
    "X = np.concatenate((X_it, X_en), axis=0)\n",
    "Y = np.concatenate((Y_it, Y_en), axis=0)\n",
    "\n",
    "from sklearn.utils import shuffle\n",
    "X_all, Y_all = shuffle(X, Y, random_state=42)"
   ]
  },
  {
   "cell_type": "code",
   "execution_count": null,
   "metadata": {
    "collapsed": false
   },
   "outputs": [],
   "source": [
    "X_all"
   ]
  },
  {
   "cell_type": "code",
   "execution_count": null,
   "metadata": {
    "collapsed": false
   },
   "outputs": [],
   "source": [
    "Y_all"
   ]
  },
  {
   "cell_type": "code",
   "execution_count": null,
   "metadata": {
    "collapsed": false
   },
   "outputs": [],
   "source": [
    "#fit\n",
    "from sklearn.svm import SVC\n",
    "from sklearn.model_selection import cross_val_score\n",
    "\n",
    "svm = SVC(kernel='rbf')\n",
    "gammas = np.logspace(-30, -10, 10)\n",
    "scores = []\n",
    "for gamma in gammas:\n",
    "    svm.gamma = gamma \n",
    "    cv_scores = cross_val_score(svm, X_all, Y_all, cv=2, n_jobs=4)\n",
    "    scores.append(np.mean(cv_scores))\n",
    "    \n",
    "print 'Best gamma:', gammas[np.argmax(scores)]\n",
    "print 'Best score:', scores[np.argmax(scores)]\n",
    "\n",
    "semilogx(gammas, scores)\n",
    "plt.xlabel('gamma')\n",
    "plt.ylabel('Score (accuracy)')"
   ]
  },
  {
   "cell_type": "code",
   "execution_count": null,
   "metadata": {
    "collapsed": true
   },
   "outputs": [],
   "source": []
  },
  {
   "cell_type": "code",
   "execution_count": null,
   "metadata": {
    "collapsed": true
   },
   "outputs": [],
   "source": []
  },
  {
   "cell_type": "code",
   "execution_count": null,
   "metadata": {
    "collapsed": true
   },
   "outputs": [],
   "source": []
  },
  {
   "cell_type": "code",
   "execution_count": null,
   "metadata": {
    "collapsed": true
   },
   "outputs": [],
   "source": []
  },
  {
   "cell_type": "markdown",
   "metadata": {},
   "source": [
    "<center> \n",
    "# Testing "
   ]
  },
  {
   "cell_type": "code",
   "execution_count": 18,
   "metadata": {
    "collapsed": true
   },
   "outputs": [],
   "source": [
    "#file txt in input\n",
    "f = open('Testo_italiano.txt', 'r')\n",
    "#f = open('Testo_inglese.txt', 'r')\n",
    "fh = f.readlines()\n",
    "\n",
    "lista = []\n",
    "for n_line in range(len(fh)):\n",
    "    punctuation='!?,.:;\"\\')(_-{}[]1234567890*+/'\n",
    "    line = fh[n_line].translate(None, punctuation).replace('\\xc3\\xb9','u').replace('\\xc3\\xa8', 'e').replace('\\u00E9', 'e').replace('\\xc3\\xb2','o').replace('\\u00F4', 'o').replace('\\xc3\\xa0', 'a').replace('\\n',' ').replace('\\n\\n',' ').replace('\\xc3\\xac', 'i').replace('\\xc3\\xa9', 'e').lower()\n",
    "    for word in line:\n",
    "        for letter in word:\n",
    "            lista.append(letter)"
   ]
  },
  {
   "cell_type": "code",
   "execution_count": 19,
   "metadata": {
    "collapsed": true
   },
   "outputs": [],
   "source": [
    "#creazione rete\n",
    "G=nx.Graph()\n",
    "alfabeto = ['a','b','c','d','e','f','g','h','i','j','k','l','m','n','o','p','q','r','s','t','u','v','w','x','y','z']\n",
    "G.add_nodes_from(alfabeto)"
   ]
  },
  {
   "cell_type": "code",
   "execution_count": 20,
   "metadata": {
    "collapsed": false
   },
   "outputs": [],
   "source": [
    "#creazione link\n",
    "for i in range(len(lista)-1):\n",
    "    if G.edges().count((lista[i],lista[i+1])) == 0:\n",
    "        G.add_edge(lista[i],lista[i+1], weight=1)\n",
    "    else:\n",
    "        G[lista[i]][lista[i+1]]['weight'] += 1 \n",
    "for j in alfabeto:\n",
    "    if G.edges().count(('', j)) != 0:\n",
    "        G.remove_edge('', j)\n",
    "if G.nodes().count(' ') != 0:\n",
    "    G.remove_node(' ')"
   ]
  },
  {
   "cell_type": "code",
   "execution_count": 21,
   "metadata": {
    "collapsed": false
   },
   "outputs": [
    {
     "data": {
      "image/png": "[encoded data removed]",
      "text/plain": [
       "<matplotlib.figure.Figure at 0x1121f0f10>"
      ]
     },
     "metadata": {},
     "output_type": "display_data"
    }
   ],
   "source": [
    "#visualizzazione grafica della rete\n",
    "pos = nx.spring_layout(G, dim=2, k=None, pos=None, fixed=None, iterations=50, weight='weight', scale=1.0)\n",
    "plt.figure(figsize=(8,6))\n",
    "nx.draw_networkx(G,pos)"
   ]
  },
  {
   "cell_type": "code",
   "execution_count": 22,
   "metadata": {
    "collapsed": false
   },
   "outputs": [
    {
     "name": "stdout",
     "output_type": "stream",
     "text": [
      "[12.32454141708976, 0.5973109866239182, 322.0, 6, -0.30508030284405097]\n"
     ]
    },
    {
     "name": "stderr",
     "output_type": "stream",
     "text": [
      "Values less than or equal to 0 in data. Throwing out 0 or negative values\n",
      "Calculating best minimal value for power law fit\n",
      "/Users/Cinus/anaconda/lib/python2.7/site-packages/powerlaw.py:692: RuntimeWarning: invalid value encountered in divide\n",
      "  (Theoretical_CDF * (1 - Theoretical_CDF))\n"
     ]
    }
   ],
   "source": [
    "#input vector\n",
    "degree = np.array(G.degree().values())\n",
    "fit_function = pwl.Fit(degree)\n",
    "#x_1 = fit_function.power_law.alpha\n",
    "x_2 = nx.average_clustering(G)\n",
    "x_3 = float(sum(nx.triangles(G).values()))/3\n",
    "x_4 = nx.number_connected_components(G)\n",
    "x_5 = nx.degree_assortativity_coefficient(G)\n",
    "X_test = [x_2, x_3, x_4, x_5]\n",
    "Y_test = [1]\n",
    "print X_test"
   ]
  },
  {
   "cell_type": "code",
   "execution_count": null,
   "metadata": {
    "collapsed": false
   },
   "outputs": [],
   "source": [
    "from sklearn.neural_network import MLPClassifier\n",
    "from sklearn.ensemble import RandomForestClassifier\n",
    "from sklearn.naive_bayes import GaussianNB\n",
    "#model =  MLPClassifier((100,50,10),activation='relu',solver='adam', max_iter=300000000, learning_rate='adaptive', random_state=0)\n",
    "#model = RandomForestClassifier(max_depth=5, n_estimators=50)\n",
    "model = GaussianNB()\n",
    "model.fit(X_all, Y_all)\n",
    "model.predict(X_test)"
   ]
  },
  {
   "cell_type": "code",
   "execution_count": null,
   "metadata": {
    "collapsed": false
   },
   "outputs": [],
   "source": [
    "from sklearn.naive_bayes import GaussianNB\n",
    "from sklearn.model_selection import cross_val_score\n",
    "\n",
    "model = GaussianNB()\n",
    "scores = []\n",
    " \n",
    "cv_scores = cross_val_score(model, X_all, Y_all, cv=3, n_jobs=4)\n",
    "scores.append(cv_scores)\n",
    "\n",
    "#np.mean(\n",
    "scores\n",
    "#print 'Best score:', scores[np.argmax(scores)]\n",
    "\n",
    "#plt.ylabel('Score (accuracy)')"
   ]
  },
  {
   "cell_type": "code",
   "execution_count": null,
   "metadata": {
    "collapsed": true
   },
   "outputs": [],
   "source": []
  },
  {
   "cell_type": "code",
   "execution_count": null,
   "metadata": {
    "collapsed": true
   },
   "outputs": [],
   "source": []
  },
  {
   "cell_type": "code",
   "execution_count": null,
   "metadata": {
    "collapsed": true
   },
   "outputs": [],
   "source": []
  },
  {
   "cell_type": "code",
   "execution_count": null,
   "metadata": {
    "collapsed": true
   },
   "outputs": [],
   "source": [
    "svm = SVC(kernel='rbf', gamma=gammas[np.argmax(scores)])\n",
    "svm.fit(X_all, Y_all)\n",
    "svm.predict(X_test)\n",
    "#print svm.score(X_test, Y_test)"
   ]
  },
  {
   "cell_type": "code",
   "execution_count": null,
   "metadata": {
    "collapsed": false
   },
   "outputs": [],
   "source": [
    "#%%time\n",
    "import numpy as np\n",
    "from scipy import misc\n",
    "from PIL import Image\n",
    "from sklearn.decomposition import PCA\n",
    "import matplotlib.pyplot as plt\n",
    "\n",
    "N = 50\n",
    "X_it = np.zeros((N,786432))\n",
    "y_it = []\n",
    "for i in range(N):\n",
    "    pos = nx.spring_layout(G, dim=2, k=None, pos=None, fixed=None, iterations=randint(100), weight='weight')\n",
    "    sns.set_style(\"whitegrid\", {'axes.grid' : False, 'axes.edgecolor': '0',  'xtick.color': '0','ytick.color': '0'})\n",
    "    plt.figure(figsize=(6,4))\n",
    "    nx.draw_networkx(G,pos)\n",
    "    savefig('Image_it.png')\n",
    "    img = misc.imread('Image_it.png');\n",
    "    img = misc.face(gray=True)\n",
    "    [width1,height1]=[img.shape[0],img.shape[1]]\n",
    "    img_2 = img.reshape(width1*height1);\n",
    "    X_it[i] = img_2\n",
    "    y_it.append(0)\n",
    "X_it"
   ]
  },
  {
   "cell_type": "code",
   "execution_count": null,
   "metadata": {
    "collapsed": true
   },
   "outputs": [],
   "source": []
  },
  {
   "cell_type": "code",
   "execution_count": null,
   "metadata": {
    "collapsed": true
   },
   "outputs": [],
   "source": []
  },
  {
   "cell_type": "code",
   "execution_count": null,
   "metadata": {
    "collapsed": false
   },
   "outputs": [],
   "source": [
    "#file txt in input\n",
    "F = open('Testo_inglese.txt', 'r')\n",
    "Fh = F.readlines()\n",
    "\n",
    "Lista = []\n",
    "for n_line in range(len(Fh)):\n",
    "    punctuation='!?,.:;\"\\')(_-{}[]1234567890*+/'\n",
    "    line = Fh[n_line].translate(None, punctuation).replace('\\xc3\\xb9','u').replace('\\xc3\\xa8', 'e').replace('\\u00E9', 'e').replace('\\xc3\\xb2','o').replace('\\u00F4', 'o').replace('\\xc3\\xa0', 'a').replace('\\n',' ').replace('\\n\\n',' ').replace('\\xc3\\xac', 'i').replace('\\xc3\\xa9', 'e').lower()\n",
    "    for word in line:\n",
    "        for letter in word:\n",
    "            Lista.append(letter)"
   ]
  },
  {
   "cell_type": "code",
   "execution_count": null,
   "metadata": {
    "collapsed": true
   },
   "outputs": [],
   "source": [
    "#creazione rete\n",
    "g = nx.Graph()\n",
    "alfabeto = ['a','b','c','d','e','f','g','h','i','j','k','l','m','n','o','p','q','r','s','t','u','v','w','x','y','z']\n",
    "g.add_nodes_from(alfabeto)"
   ]
  },
  {
   "cell_type": "code",
   "execution_count": null,
   "metadata": {
    "collapsed": false
   },
   "outputs": [],
   "source": [
    "#creazione link\n",
    "for i in range(len(Lista)-1):\n",
    "    if g.edges().count((Lista[i],Lista[i+1])) == 0:\n",
    "        g.add_edge(Lista[i],Lista[i+1], weight=1)\n",
    "    else:\n",
    "        g[Lista[i]][Lista[i+1]]['weight'] += 1 \n",
    "for j in alfabeto:\n",
    "    if g.edges().count(('', j)) != 0:\n",
    "        g.remove_edge('', j)\n",
    "if g.nodes().count(' ') != 0:\n",
    "    g.remove_node(' ')\n",
    "    "
   ]
  },
  {
   "cell_type": "code",
   "execution_count": null,
   "metadata": {
    "collapsed": false
   },
   "outputs": [],
   "source": [
    "#visualizzazione grafica della rete inglese\n",
    "pos = nx.spring_layout(g, dim=2, k=None, pos=None, fixed=None, iterations=50, weight='weight', scale=1.0)\n",
    "plt.figure(figsize=(8,6))\n",
    "nx.draw_networkx(g,pos)"
   ]
  },
  {
   "cell_type": "code",
   "execution_count": null,
   "metadata": {
    "collapsed": false
   },
   "outputs": [],
   "source": [
    "#%%time\n",
    "import numpy as np\n",
    "from scipy import misc\n",
    "from PIL import Image\n",
    "from sklearn.decomposition import PCA\n",
    "import matplotlib.pyplot as plt\n",
    "\n",
    "X_en = np.zeros((N,786432))\n",
    "y_en = []\n",
    "for i in range(N):\n",
    "    pos = nx.spring_layout(G, dim=2, k=None, pos=None, fixed=None, iterations=randint(100), weight='weight')\n",
    "    sns.set_style(\"whitegrid\", {'axes.grid' : False, 'axes.edgecolor': '0',  'xtick.color': '0','ytick.color': '0'})\n",
    "    plt.figure(figsize=(6,4))\n",
    "    nx.draw_networkx(g,pos)\n",
    "    savefig('Image_en.png')\n",
    "    img = misc.imread('Image_en.png');\n",
    "    img = misc.face(gray=True)\n",
    "    [width1,height1]=[img.shape[0],img.shape[1]]\n",
    "    img_2 = img.reshape(width1*height1);\n",
    "    X_en[i] = img_2\n",
    "    y_en.append(1)\n",
    "X_en.shape"
   ]
  },
  {
   "cell_type": "code",
   "execution_count": null,
   "metadata": {
    "collapsed": false
   },
   "outputs": [],
   "source": []
  },
  {
   "cell_type": "code",
   "execution_count": null,
   "metadata": {
    "collapsed": true
   },
   "outputs": [],
   "source": []
  },
  {
   "cell_type": "code",
   "execution_count": null,
   "metadata": {
    "collapsed": false
   },
   "outputs": [],
   "source": [
    "X = np.concatenate((X_it, X_en), axis=0)\n",
    "y = np.concatenate((y_it, y_en), axis=0)\n",
    "\n",
    "from sklearn.utils import shuffle\n",
    "X_all, y_all = shuffle(X, y, random_state=42)"
   ]
  },
  {
   "cell_type": "code",
   "execution_count": null,
   "metadata": {
    "collapsed": false
   },
   "outputs": [],
   "source": [
    "from sklearn.decomposition import PCA   \n",
    "pca = PCA(800)\n",
    "pca.fit(X_all)\n",
    "U = pca.transform(X_all)\n",
    "svm.fit(X_all,y_all)\n"
   ]
  },
  {
   "cell_type": "code",
   "execution_count": null,
   "metadata": {
    "collapsed": false
   },
   "outputs": [],
   "source": [
    "img = misc.imread('Image_it.png');\n",
    "img = misc.face(gray=True)\n",
    "[width1,height1]=[img.shape[0],img.shape[1]]\n",
    "img_2 = img.reshape(width1*height1);\n",
    "X_test = img_2\n",
    "\n",
    "y_test = svm.predict(X_test)\n",
    "y_test"
   ]
  },
  {
   "cell_type": "code",
   "execution_count": null,
   "metadata": {
    "collapsed": false
   },
   "outputs": [],
   "source": [
    "from sklearn.svm import SVC\n",
    "from sklearn.model_selection import cross_val_score\n",
    "\n",
    "svm = SVC(kernel='rbf')\n",
    "gammas = np.logspace(-30, -15, 10)\n",
    "scores = []\n",
    "for gamma in gammas:\n",
    "    svm.gamma = gamma #1500<-pti dataset, K<-pti validationset K=1500/cv, cv= <-num di suddivisioni di 1500 in K pti\n",
    "    cv_scores = cross_val_score(svm, X_all, Y_all, cv=2, n_jobs=4)#cv=3 è il numero di suddivisioni del dataset \n",
    "    #crea un vettore con tutte le accuratezze di ciascuna suddivisione possibile \n",
    "    #(i.e divido il dataset in 3 parti e una la considero validationset e calcolo lo score, poi lo calcolo considerando la parte 2 come validationset..)\n",
    "    scores.append(np.mean(cv_scores))\n",
    "    \n",
    "print 'Best gamma:', gammas[np.argmax(scores)]\n",
    "print 'Best score:', scores[np.argmax(scores)]\n",
    "\n",
    "semilogx(gammas, scores)\n",
    "plt.xlabel('gamma')\n",
    "plt.ylabel('Score (accuracy)')"
   ]
  },
  {
   "cell_type": "code",
   "execution_count": null,
   "metadata": {
    "collapsed": false
   },
   "outputs": [],
   "source": [
    "from sklearn.neural_network import MLPClassifier\n",
    "\n",
    "model =  MLPClassifier((100,50,10),activation='relu',solver='adam', max_iter=300000000,\n",
    "                                                  learning_rate='adaptive', random_state=0)\n",
    "\n",
    "model.fit(X_all, y_all)\n"
   ]
  },
  {
   "cell_type": "code",
   "execution_count": null,
   "metadata": {
    "collapsed": false
   },
   "outputs": [],
   "source": [
    "img = misc.imread('Image_it.png');\n",
    "img = misc.face(gray=True)\n",
    "[width1,height1]=[img.shape[0],img.shape[1]]\n",
    "img_2 = img.reshape(width1*height1);\n",
    "X_test = img_2\n",
    "\n",
    "y_test = model.predict(X_test)\n",
    "y_test"
   ]
  },
  {
   "cell_type": "code",
   "execution_count": null,
   "metadata": {
    "collapsed": false
   },
   "outputs": [],
   "source": []
  },
  {
   "cell_type": "code",
   "execution_count": null,
   "metadata": {
    "collapsed": true
   },
   "outputs": [],
   "source": [
    "f_en = open('Dizionario_Inglese.txt', 'r')\n",
    "f_it = open('Dizionario_Italiano.txt', 'r')\n",
    "fh_en = f_en.readlines()\n",
    "fh_it = f_it.readlines()\n",
    "\n",
    "for i in fh_it:\n",
    "    for j in fh_en:\n",
    "        if i == j:\n",
    "            fh_it.remove(i)\n"
   ]
  },
  {
   "cell_type": "code",
   "execution_count": null,
   "metadata": {
    "collapsed": false
   },
   "outputs": [],
   "source": []
  },
  {
   "cell_type": "code",
   "execution_count": null,
   "metadata": {
    "collapsed": true
   },
   "outputs": [],
   "source": []
  }
 ],
 "metadata": {
  "anaconda-cloud": {},
  "kernelspec": {
   "display_name": "Python [default]",
   "language": "python",
   "name": "python2"
  },
  "language_info": {
   "codemirror_mode": {
    "name": "ipython",
    "version": 2
   },
   "file_extension": ".py",
   "mimetype": "text/x-python",
   "name": "python",
   "nbconvert_exporter": "python",
   "pygments_lexer": "ipython2",
   "version": "2.7.12"
  }
 },
 "nbformat": 4,
 "nbformat_minor": 1
}
